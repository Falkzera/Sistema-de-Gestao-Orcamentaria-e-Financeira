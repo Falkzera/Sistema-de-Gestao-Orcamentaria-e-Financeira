{
 "cells": [
  {
   "cell_type": "code",
   "execution_count": 223,
   "id": "ec0f46a9",
   "metadata": {},
   "outputs": [],
   "source": [
    "import pandas as pd"
   ]
  },
  {
   "cell_type": "code",
   "execution_count": 224,
   "id": "94e356d1",
   "metadata": {},
   "outputs": [],
   "source": [
    "df = pd.read_excel('base.xlsx') # processo base"
   ]
  },
  {
   "cell_type": "code",
   "execution_count": 225,
   "id": "a1753900",
   "metadata": {},
   "outputs": [],
   "source": [
    "# processos da minuta\n",
    "minuta_geral = pd.read_excel('minuta.xlsx', sheet_name='GERAL')\n",
    "minuta_credito = pd.read_excel('minuta.xlsx', sheet_name='CRÉDITO')\n",
    "minuta_indenizatorios = pd.read_excel('minuta.xlsx', sheet_name='INDENIZATÓRIOS')\n",
    "minuta_passagemdiarias = pd.read_excel('minuta.xlsx', sheet_name='PASSAGENSDIÁRIAS')"
   ]
  },
  {
   "cell_type": "code",
   "execution_count": 226,
   "id": "4304ad25",
   "metadata": {},
   "outputs": [
    {
     "data": {
      "application/vnd.microsoft.datawrangler.viewer.v0+json": {
       "columns": [
        {
         "name": "index",
         "rawType": "int64",
         "type": "integer"
        },
        {
         "name": "REGISTRO",
         "rawType": "object",
         "type": "string"
        },
        {
         "name": "ENTRADA",
         "rawType": "float64",
         "type": "float"
        },
        {
         "name": "MÊS",
         "rawType": "object",
         "type": "string"
        },
        {
         "name": "PROCESSO",
         "rawType": "object",
         "type": "string"
        },
        {
         "name": "INTERESSADO",
         "rawType": "object",
         "type": "string"
        },
        {
         "name": "TIPO DESPESA",
         "rawType": "object",
         "type": "unknown"
        },
        {
         "name": "DETALHAMENTO",
         "rawType": "object",
         "type": "unknown"
        },
        {
         "name": "FONTE",
         "rawType": "object",
         "type": "unknown"
        },
        {
         "name": "VALOR",
         "rawType": "object",
         "type": "unknown"
        },
        {
         "name": "OBSERVAÇÃO",
         "rawType": "object",
         "type": "unknown"
        },
        {
         "name": "GRUPO DE DESPESA",
         "rawType": "object",
         "type": "string"
        },
        {
         "name": "DELIBERAÇÃO",
         "rawType": "object",
         "type": "string"
        },
        {
         "name": "ATA",
         "rawType": "object",
         "type": "unknown"
        },
        {
         "name": "SAÍDA",
         "rawType": "object",
         "type": "unknown"
        },
        {
         "name": "Unnamed: 14",
         "rawType": "object",
         "type": "unknown"
        }
       ],
       "ref": "d967d014-1d8e-4935-b6a5-d1287970160f",
       "rows": [
        [
         "0",
         "Letícia",
         "11.0",
         "Janeiro",
         "E:05501.0000003447/2024",
         "DER",
         "Contratação",
         "  Contratação de serviço de seguro de vida coletivo para estagiários.",
         "500",
         "R$ 1.010,40",
         "A legislação exige a proteção dos estagiários por meio de um seguro específico, cobrindo acidentes durante o estágio, tanto nas atividades internas quanto nos deslocamentos.",
         "Outros",
         "SEGURAR",
         null,
         null,
         null
        ],
        [
         "1",
         "Letícia",
         "9.0",
         "Janeiro",
         "E:04105.0000002178/2024",
         "AMGESP",
         "Contratos",
         "Termo Aditivo ao Contrato CPL/SETRAND-DER/AL Nº 003/2022-prazo de vigência expirar-se-á no dia 31/01/2025. (APENAS PRAZO)",
         "500/501",
         "\nR$ 30.392.123,82 ",
         " Tem como objeto os serviços Contínuos de Conservação Rotineira Rodoviária das Rodovias AL-101N/215/220/401/404/407.-prazo de vigência expirar-se-á no dia 31/01/2025.Parecer favorável da PGE- O Termo Aditivo autorizado se refere apenas à prorrogação contratual. (só prazo)",
         "Outros",
         "Aprovado com condicionante",
         "1",
         "2025-01-16 00:00:00",
         null
        ],
        [
         "2",
         "Letícia",
         "11.0",
         "Janeiro",
         "E:05501.0000006142/2024",
         "DER",
         null,
         null,
         null,
         null,
         null,
         "Outros",
         "Aprovado com condicionante",
         "1",
         "2025-01-16 00:00:00",
         null
        ],
        [
         "3",
         "Letícia",
         "11.0",
         "Janeiro",
         "E:05501.0000006141/2024",
         "DER",
         "Contratos",
         "Sexto Termo Aditivo ao Contrato CPL/SETRAND-DER/AL nº 002/2022-prazo de vigência dar-se-á em 31 de janeiro de 2025. (APENAS PRAZO)",
         "500/501",
         "R$ 35.607.149,96 ",
         "Aprovação condicionada da PGE. - prazo de vigência dar-se-á em 31 de janeiro de 2024. Tem como objeto os Serviços Contínuos de Conservação Rotineira Rodoviária das Rodovias AL-110/115/120/215/220/225/450/485/486/487.( Apenas prazo, o processo com reequilíbrio financeiro está em tramitação) Está compatível com as prioridades governamentais e o Plano de Governo-SEGOV.",
         "Outros",
         "Aprovado com condicionante",
         "1",
         "2025-01-16 00:00:00",
         null
        ],
        [
         "4",
         "Beatriz",
         "13.0",
         "Janeiro",
         "E:01101.0000004456/2023",
         "GABCIVIL",
         "Cessão de servidor",
         "Renovação da cessão da servidora Othelina Amália do Nascimento Holanda, ocupante do cargo efetivo de Médico, Clínico Geral, para continuar fazendo parte do quadro de Pessoal do poder Executivo Municipal.",
         " - ",
         " - ",
         "O Setor de Análise e Instrução Processual – SAIP/GEREVP informa que Othelina Amália do Nascimento Holanda é servidor (a) do Quadro de Cargos Permanente do Serviço Civil do Poder Executivo, lotado (a) no  PAM Salgadinho da Secretaria Municipal de Saúde,  nomeado (a) em, DOE de 11.04.2005, com exercício em 17.05.2005, ocupante do Cargo de Médico, sob Matrícula nº 9864250-2, com carga horária de 24 (vinte e quatro) horas semanais de trabalho.",
         "Outros",
         "Aprovado com condicionante",
         null,
         null,
         null
        ]
       ],
       "shape": {
        "columns": 15,
        "rows": 5
       }
      },
      "text/html": [
       "<div>\n",
       "<style scoped>\n",
       "    .dataframe tbody tr th:only-of-type {\n",
       "        vertical-align: middle;\n",
       "    }\n",
       "\n",
       "    .dataframe tbody tr th {\n",
       "        vertical-align: top;\n",
       "    }\n",
       "\n",
       "    .dataframe thead th {\n",
       "        text-align: right;\n",
       "    }\n",
       "</style>\n",
       "<table border=\"1\" class=\"dataframe\">\n",
       "  <thead>\n",
       "    <tr style=\"text-align: right;\">\n",
       "      <th></th>\n",
       "      <th>REGISTRO</th>\n",
       "      <th>ENTRADA</th>\n",
       "      <th>MÊS</th>\n",
       "      <th>PROCESSO</th>\n",
       "      <th>INTERESSADO</th>\n",
       "      <th>TIPO DESPESA</th>\n",
       "      <th>DETALHAMENTO</th>\n",
       "      <th>FONTE</th>\n",
       "      <th>VALOR</th>\n",
       "      <th>OBSERVAÇÃO</th>\n",
       "      <th>GRUPO DE DESPESA</th>\n",
       "      <th>DELIBERAÇÃO</th>\n",
       "      <th>ATA</th>\n",
       "      <th>SAÍDA</th>\n",
       "      <th>Unnamed: 14</th>\n",
       "    </tr>\n",
       "  </thead>\n",
       "  <tbody>\n",
       "    <tr>\n",
       "      <th>0</th>\n",
       "      <td>Letícia</td>\n",
       "      <td>11.0</td>\n",
       "      <td>Janeiro</td>\n",
       "      <td>E:05501.0000003447/2024</td>\n",
       "      <td>DER</td>\n",
       "      <td>Contratação</td>\n",
       "      <td>Contratação de serviço de seguro de vida col...</td>\n",
       "      <td>500</td>\n",
       "      <td>R$ 1.010,40</td>\n",
       "      <td>A legislação exige a proteção dos estagiários ...</td>\n",
       "      <td>Outros</td>\n",
       "      <td>SEGURAR</td>\n",
       "      <td>NaN</td>\n",
       "      <td>NaN</td>\n",
       "      <td>NaN</td>\n",
       "    </tr>\n",
       "    <tr>\n",
       "      <th>1</th>\n",
       "      <td>Letícia</td>\n",
       "      <td>9.0</td>\n",
       "      <td>Janeiro</td>\n",
       "      <td>E:04105.0000002178/2024</td>\n",
       "      <td>AMGESP</td>\n",
       "      <td>Contratos</td>\n",
       "      <td>Termo Aditivo ao Contrato CPL/SETRAND-DER/AL N...</td>\n",
       "      <td>500/501</td>\n",
       "      <td>\\nR$ 30.392.123,82</td>\n",
       "      <td>Tem como objeto os serviços Contínuos de Cons...</td>\n",
       "      <td>Outros</td>\n",
       "      <td>Aprovado com condicionante</td>\n",
       "      <td>1</td>\n",
       "      <td>2025-01-16 00:00:00</td>\n",
       "      <td>NaN</td>\n",
       "    </tr>\n",
       "    <tr>\n",
       "      <th>2</th>\n",
       "      <td>Letícia</td>\n",
       "      <td>11.0</td>\n",
       "      <td>Janeiro</td>\n",
       "      <td>E:05501.0000006142/2024</td>\n",
       "      <td>DER</td>\n",
       "      <td>NaN</td>\n",
       "      <td>NaN</td>\n",
       "      <td>NaN</td>\n",
       "      <td>NaN</td>\n",
       "      <td>NaN</td>\n",
       "      <td>Outros</td>\n",
       "      <td>Aprovado com condicionante</td>\n",
       "      <td>1</td>\n",
       "      <td>2025-01-16 00:00:00</td>\n",
       "      <td>NaN</td>\n",
       "    </tr>\n",
       "    <tr>\n",
       "      <th>3</th>\n",
       "      <td>Letícia</td>\n",
       "      <td>11.0</td>\n",
       "      <td>Janeiro</td>\n",
       "      <td>E:05501.0000006141/2024</td>\n",
       "      <td>DER</td>\n",
       "      <td>Contratos</td>\n",
       "      <td>Sexto Termo Aditivo ao Contrato CPL/SETRAND-DE...</td>\n",
       "      <td>500/501</td>\n",
       "      <td>R$ 35.607.149,96</td>\n",
       "      <td>Aprovação condicionada da PGE. - prazo de vigê...</td>\n",
       "      <td>Outros</td>\n",
       "      <td>Aprovado com condicionante</td>\n",
       "      <td>1</td>\n",
       "      <td>2025-01-16 00:00:00</td>\n",
       "      <td>NaN</td>\n",
       "    </tr>\n",
       "    <tr>\n",
       "      <th>4</th>\n",
       "      <td>Beatriz</td>\n",
       "      <td>13.0</td>\n",
       "      <td>Janeiro</td>\n",
       "      <td>E:01101.0000004456/2023</td>\n",
       "      <td>GABCIVIL</td>\n",
       "      <td>Cessão de servidor</td>\n",
       "      <td>Renovação da cessão da servidora Othelina Amál...</td>\n",
       "      <td>-</td>\n",
       "      <td>-</td>\n",
       "      <td>O Setor de Análise e Instrução Processual – SA...</td>\n",
       "      <td>Outros</td>\n",
       "      <td>Aprovado com condicionante</td>\n",
       "      <td>NaN</td>\n",
       "      <td>NaN</td>\n",
       "      <td>NaN</td>\n",
       "    </tr>\n",
       "  </tbody>\n",
       "</table>\n",
       "</div>"
      ],
      "text/plain": [
       "  REGISTRO  ENTRADA      MÊS                 PROCESSO INTERESSADO  \\\n",
       "0  Letícia     11.0  Janeiro  E:05501.0000003447/2024         DER   \n",
       "1  Letícia      9.0  Janeiro  E:04105.0000002178/2024      AMGESP   \n",
       "2  Letícia     11.0  Janeiro  E:05501.0000006142/2024         DER   \n",
       "3  Letícia     11.0  Janeiro  E:05501.0000006141/2024         DER   \n",
       "4  Beatriz     13.0  Janeiro  E:01101.0000004456/2023    GABCIVIL   \n",
       "\n",
       "         TIPO DESPESA                                       DETALHAMENTO  \\\n",
       "0         Contratação    Contratação de serviço de seguro de vida col...   \n",
       "1           Contratos  Termo Aditivo ao Contrato CPL/SETRAND-DER/AL N...   \n",
       "2                 NaN                                                NaN   \n",
       "3           Contratos  Sexto Termo Aditivo ao Contrato CPL/SETRAND-DE...   \n",
       "4  Cessão de servidor  Renovação da cessão da servidora Othelina Amál...   \n",
       "\n",
       "     FONTE                VALOR  \\\n",
       "0      500          R$ 1.010,40   \n",
       "1  500/501  \\nR$ 30.392.123,82    \n",
       "2      NaN                  NaN   \n",
       "3  500/501    R$ 35.607.149,96    \n",
       "4       -                    -    \n",
       "\n",
       "                                          OBSERVAÇÃO GRUPO DE DESPESA  \\\n",
       "0  A legislação exige a proteção dos estagiários ...           Outros   \n",
       "1   Tem como objeto os serviços Contínuos de Cons...           Outros   \n",
       "2                                                NaN           Outros   \n",
       "3  Aprovação condicionada da PGE. - prazo de vigê...           Outros   \n",
       "4  O Setor de Análise e Instrução Processual – SA...           Outros   \n",
       "\n",
       "                  DELIBERAÇÃO  ATA                SAÍDA Unnamed: 14  \n",
       "0                     SEGURAR  NaN                  NaN         NaN  \n",
       "1  Aprovado com condicionante    1  2025-01-16 00:00:00         NaN  \n",
       "2  Aprovado com condicionante    1  2025-01-16 00:00:00         NaN  \n",
       "3  Aprovado com condicionante    1  2025-01-16 00:00:00         NaN  \n",
       "4  Aprovado com condicionante  NaN                  NaN         NaN  "
      ]
     },
     "execution_count": 226,
     "metadata": {},
     "output_type": "execute_result"
    }
   ],
   "source": [
    "df.head()"
   ]
  },
  {
   "cell_type": "code",
   "execution_count": 227,
   "id": "643a7abe",
   "metadata": {},
   "outputs": [],
   "source": [
    "# Mapping months to their respective numerical values\n",
    "month_mapping = {\n",
    "    'Janeiro': 1, 'Fevereiro': 2, 'Março': 3, 'Abril': 4, 'Maio': 5, \n",
    "    'Junho': 6, 'Julho': 7, 'Agosto': 8, 'Setembro': 9, 'Outubro': 10, \n",
    "    'Novembro': 11, 'Dezembro': 12\n",
    "}\n",
    "\n",
    "# Applying the mapping to the 'MÊS' column\n",
    "df['MÊS'] = df['MÊS'].map(month_mapping)\n"
   ]
  },
  {
   "cell_type": "code",
   "execution_count": 228,
   "id": "6b457e1a",
   "metadata": {},
   "outputs": [],
   "source": [
    "df[\"ENTRADA\"] = pd.to_numeric(df[\"ENTRADA\"], errors='coerce').fillna(1).astype(int)\n"
   ]
  },
  {
   "cell_type": "code",
   "execution_count": 229,
   "id": "9f3792d4",
   "metadata": {},
   "outputs": [],
   "source": [
    "df[\"MÊS\"] = pd.to_numeric(df[\"MÊS\"], errors='coerce').fillna(12).astype(int)\n"
   ]
  },
  {
   "cell_type": "code",
   "execution_count": 230,
   "id": "afdba673",
   "metadata": {},
   "outputs": [],
   "source": [
    "# Coletar as informacoes da coluna MÊS e ENTRADA, onde entrada refere-se ao DIA e o mês ao mês, o ano sempre será 2025, e coloque na coliuna chamada Data de Recebimento\n",
    "df['Data de Recebimento'] = pd.to_datetime(df['MÊS'].astype(str) + ' ' + df['ENTRADA'].astype(str) + ' 2025', format='%m %d %Y')\n"
   ]
  },
  {
   "cell_type": "code",
   "execution_count": 231,
   "id": "0ea9d9a8",
   "metadata": {},
   "outputs": [],
   "source": [
    "# EM Data de Recebimento, retirar o horario, deixar apenas a data memso\n",
    "df['Data de Recebimento'] = df['Data de Recebimento'].dt.date"
   ]
  },
  {
   "cell_type": "code",
   "execution_count": 232,
   "id": "432dedef",
   "metadata": {},
   "outputs": [],
   "source": [
    "def limpar_valor_decimal(valor):\n",
    "    # Transforma em string\n",
    "    valor = str(valor).strip()\n",
    "\n",
    "    # Remove \"R$\" e espaços extras\n",
    "    valor = valor.replace('R$', '').strip()\n",
    "\n",
    "    # Se for vazio ou traço, retorna 0.00\n",
    "    if valor in ['-', ' -', '', None]:\n",
    "        return 0.00\n",
    "\n",
    "    # Se tem vírgula, trata como decimal\n",
    "    if ',' in valor:\n",
    "        valor = valor.replace('.', '')       # remove pontos (milhar)\n",
    "        valor = valor.replace(',', '.')      # troca vírgula por ponto decimal\n",
    "    else:\n",
    "        valor = valor.replace('.', '')       # remove pontos\n",
    "        valor = valor + '.00'                # adiciona .00 no final\n",
    "\n",
    "    try:\n",
    "        return float(valor)\n",
    "    except ValueError:\n",
    "        return 0.00\n",
    "\n",
    "\n",
    "df['VALOR'] = df['VALOR'].apply(limpar_valor_decimal)\n"
   ]
  },
  {
   "cell_type": "code",
   "execution_count": 233,
   "id": "4d5eccc3",
   "metadata": {},
   "outputs": [],
   "source": [
    "def formatar_fonte(valor):\n",
    "    partes = str(valor).split('/')\n",
    "    partes = [p.strip() for p in partes if p.strip()]\n",
    "\n",
    "    if not partes:\n",
    "        return ''\n",
    "    elif len(partes) == 1:\n",
    "        return partes[0]\n",
    "    elif len(partes) == 2:\n",
    "        return f'{partes[0]} e {partes[1]}'\n",
    "    else:\n",
    "        return ', '.join(partes[:-1]) + f' e {partes[-1]}'\n",
    "\n",
    "df['FONTE'] = df['FONTE'].apply(formatar_fonte)\n"
   ]
  },
  {
   "cell_type": "code",
   "execution_count": 234,
   "id": "2a4a4798",
   "metadata": {},
   "outputs": [],
   "source": [
    "# remover entrada e mês\n",
    "df = df.drop(columns=['ENTRADA', 'MÊS', \"Unnamed: 14\"])"
   ]
  },
  {
   "cell_type": "code",
   "execution_count": 235,
   "id": "c56e327e",
   "metadata": {},
   "outputs": [],
   "source": [
    "# Renomear colunas\n",
    "df.rename(columns={\n",
    "    'REGISTRO': 'Cadastrado Por',\n",
    "    'PROCESSO': 'Nº do Processo',\n",
    "    'TIPO DESPESA': 'Tipo de Despesa',\n",
    "    'INTERESSADO': 'Órgão (UO)',\n",
    "    'FONTE': 'Fonte de Recursos',\n",
    "    'GRUPO DE DESPESA': 'Grupo de Despesas',\n",
    "    'VALOR': 'Valor',\n",
    "    'DETALHAMENTO': 'Objetivo',\n",
    "    'OBSERVAÇÃO': 'Observação',\n",
    "    'Data de Recebimento': 'Data de Recebimento',\n",
    "    'DELIBERAÇÃO': 'Deliberação',\n",
    "    'ATA': 'Nº ATA',\n",
    "    'SAÍDA': 'Data de Publicação'\n",
    "}, inplace=True)\n",
    "\n",
    "# Reorganizar as colunas na ordem especificada\n",
    "df = df[['Deliberação', 'Nº do Processo', 'Tipo de Despesa', 'Órgão (UO)', 'Fonte de Recursos', \n",
    "         'Grupo de Despesas', 'Valor', 'Objetivo', 'Observação', 'Data de Recebimento', \n",
    "         'Data de Publicação', 'Nº ATA', 'Cadastrado Por']]"
   ]
  },
  {
   "cell_type": "code",
   "execution_count": 236,
   "id": "ce959dd1",
   "metadata": {},
   "outputs": [
    {
     "data": {
      "application/vnd.microsoft.datawrangler.viewer.v0+json": {
       "columns": [
        {
         "name": "index",
         "rawType": "int64",
         "type": "integer"
        },
        {
         "name": "Deliberação",
         "rawType": "object",
         "type": "string"
        },
        {
         "name": "Nº do Processo",
         "rawType": "object",
         "type": "string"
        },
        {
         "name": "Tipo de Despesa",
         "rawType": "object",
         "type": "unknown"
        },
        {
         "name": "Órgão (UO)",
         "rawType": "object",
         "type": "string"
        },
        {
         "name": "Fonte de Recursos",
         "rawType": "object",
         "type": "string"
        },
        {
         "name": "Grupo de Despesas",
         "rawType": "object",
         "type": "string"
        },
        {
         "name": "Valor",
         "rawType": "float64",
         "type": "float"
        },
        {
         "name": "Objetivo",
         "rawType": "object",
         "type": "unknown"
        },
        {
         "name": "Observação",
         "rawType": "object",
         "type": "unknown"
        },
        {
         "name": "Data de Recebimento",
         "rawType": "object",
         "type": "unknown"
        },
        {
         "name": "Data de Publicação",
         "rawType": "object",
         "type": "unknown"
        },
        {
         "name": "Nº ATA",
         "rawType": "object",
         "type": "unknown"
        },
        {
         "name": "Cadastrado Por",
         "rawType": "object",
         "type": "string"
        }
       ],
       "ref": "7bb83cda-8232-4973-8f6d-b99ae23db04e",
       "rows": [
        [
         "0",
         "SEGURAR",
         "E:05501.0000003447/2024",
         "Contratação",
         "DER",
         "500",
         "Outros",
         "1010.4",
         "  Contratação de serviço de seguro de vida coletivo para estagiários.",
         "A legislação exige a proteção dos estagiários por meio de um seguro específico, cobrindo acidentes durante o estágio, tanto nas atividades internas quanto nos deslocamentos.",
         "2025-01-11",
         null,
         null,
         "Letícia"
        ],
        [
         "1",
         "Aprovado com condicionante",
         "E:04105.0000002178/2024",
         "Contratos",
         "AMGESP",
         "500 e 501",
         "Outros",
         "30392123.82",
         "Termo Aditivo ao Contrato CPL/SETRAND-DER/AL Nº 003/2022-prazo de vigência expirar-se-á no dia 31/01/2025. (APENAS PRAZO)",
         " Tem como objeto os serviços Contínuos de Conservação Rotineira Rodoviária das Rodovias AL-101N/215/220/401/404/407.-prazo de vigência expirar-se-á no dia 31/01/2025.Parecer favorável da PGE- O Termo Aditivo autorizado se refere apenas à prorrogação contratual. (só prazo)",
         "2025-01-09",
         "2025-01-16 00:00:00",
         "1",
         "Letícia"
        ],
        [
         "2",
         "Aprovado com condicionante",
         "E:05501.0000006142/2024",
         null,
         "DER",
         "nan",
         "Outros",
         "0.0",
         null,
         null,
         "2025-01-11",
         "2025-01-16 00:00:00",
         "1",
         "Letícia"
        ],
        [
         "3",
         "Aprovado com condicionante",
         "E:05501.0000006141/2024",
         "Contratos",
         "DER",
         "500 e 501",
         "Outros",
         "35607149.96",
         "Sexto Termo Aditivo ao Contrato CPL/SETRAND-DER/AL nº 002/2022-prazo de vigência dar-se-á em 31 de janeiro de 2025. (APENAS PRAZO)",
         "Aprovação condicionada da PGE. - prazo de vigência dar-se-á em 31 de janeiro de 2024. Tem como objeto os Serviços Contínuos de Conservação Rotineira Rodoviária das Rodovias AL-110/115/120/215/220/225/450/485/486/487.( Apenas prazo, o processo com reequilíbrio financeiro está em tramitação) Está compatível com as prioridades governamentais e o Plano de Governo-SEGOV.",
         "2025-01-11",
         "2025-01-16 00:00:00",
         "1",
         "Letícia"
        ],
        [
         "4",
         "Aprovado com condicionante",
         "E:01101.0000004456/2023",
         "Cessão de servidor",
         "GABCIVIL",
         "-",
         "Outros",
         "0.0",
         "Renovação da cessão da servidora Othelina Amália do Nascimento Holanda, ocupante do cargo efetivo de Médico, Clínico Geral, para continuar fazendo parte do quadro de Pessoal do poder Executivo Municipal.",
         "O Setor de Análise e Instrução Processual – SAIP/GEREVP informa que Othelina Amália do Nascimento Holanda é servidor (a) do Quadro de Cargos Permanente do Serviço Civil do Poder Executivo, lotado (a) no  PAM Salgadinho da Secretaria Municipal de Saúde,  nomeado (a) em, DOE de 11.04.2005, com exercício em 17.05.2005, ocupante do Cargo de Médico, sob Matrícula nº 9864250-2, com carga horária de 24 (vinte e quatro) horas semanais de trabalho.",
         "2025-01-13",
         null,
         null,
         "Beatriz"
        ]
       ],
       "shape": {
        "columns": 13,
        "rows": 5
       }
      },
      "text/html": [
       "<div>\n",
       "<style scoped>\n",
       "    .dataframe tbody tr th:only-of-type {\n",
       "        vertical-align: middle;\n",
       "    }\n",
       "\n",
       "    .dataframe tbody tr th {\n",
       "        vertical-align: top;\n",
       "    }\n",
       "\n",
       "    .dataframe thead th {\n",
       "        text-align: right;\n",
       "    }\n",
       "</style>\n",
       "<table border=\"1\" class=\"dataframe\">\n",
       "  <thead>\n",
       "    <tr style=\"text-align: right;\">\n",
       "      <th></th>\n",
       "      <th>Deliberação</th>\n",
       "      <th>Nº do Processo</th>\n",
       "      <th>Tipo de Despesa</th>\n",
       "      <th>Órgão (UO)</th>\n",
       "      <th>Fonte de Recursos</th>\n",
       "      <th>Grupo de Despesas</th>\n",
       "      <th>Valor</th>\n",
       "      <th>Objetivo</th>\n",
       "      <th>Observação</th>\n",
       "      <th>Data de Recebimento</th>\n",
       "      <th>Data de Publicação</th>\n",
       "      <th>Nº ATA</th>\n",
       "      <th>Cadastrado Por</th>\n",
       "    </tr>\n",
       "  </thead>\n",
       "  <tbody>\n",
       "    <tr>\n",
       "      <th>0</th>\n",
       "      <td>SEGURAR</td>\n",
       "      <td>E:05501.0000003447/2024</td>\n",
       "      <td>Contratação</td>\n",
       "      <td>DER</td>\n",
       "      <td>500</td>\n",
       "      <td>Outros</td>\n",
       "      <td>1010.40</td>\n",
       "      <td>Contratação de serviço de seguro de vida col...</td>\n",
       "      <td>A legislação exige a proteção dos estagiários ...</td>\n",
       "      <td>2025-01-11</td>\n",
       "      <td>NaN</td>\n",
       "      <td>NaN</td>\n",
       "      <td>Letícia</td>\n",
       "    </tr>\n",
       "    <tr>\n",
       "      <th>1</th>\n",
       "      <td>Aprovado com condicionante</td>\n",
       "      <td>E:04105.0000002178/2024</td>\n",
       "      <td>Contratos</td>\n",
       "      <td>AMGESP</td>\n",
       "      <td>500 e 501</td>\n",
       "      <td>Outros</td>\n",
       "      <td>30392123.82</td>\n",
       "      <td>Termo Aditivo ao Contrato CPL/SETRAND-DER/AL N...</td>\n",
       "      <td>Tem como objeto os serviços Contínuos de Cons...</td>\n",
       "      <td>2025-01-09</td>\n",
       "      <td>2025-01-16 00:00:00</td>\n",
       "      <td>1</td>\n",
       "      <td>Letícia</td>\n",
       "    </tr>\n",
       "    <tr>\n",
       "      <th>2</th>\n",
       "      <td>Aprovado com condicionante</td>\n",
       "      <td>E:05501.0000006142/2024</td>\n",
       "      <td>NaN</td>\n",
       "      <td>DER</td>\n",
       "      <td>nan</td>\n",
       "      <td>Outros</td>\n",
       "      <td>0.00</td>\n",
       "      <td>NaN</td>\n",
       "      <td>NaN</td>\n",
       "      <td>2025-01-11</td>\n",
       "      <td>2025-01-16 00:00:00</td>\n",
       "      <td>1</td>\n",
       "      <td>Letícia</td>\n",
       "    </tr>\n",
       "    <tr>\n",
       "      <th>3</th>\n",
       "      <td>Aprovado com condicionante</td>\n",
       "      <td>E:05501.0000006141/2024</td>\n",
       "      <td>Contratos</td>\n",
       "      <td>DER</td>\n",
       "      <td>500 e 501</td>\n",
       "      <td>Outros</td>\n",
       "      <td>35607149.96</td>\n",
       "      <td>Sexto Termo Aditivo ao Contrato CPL/SETRAND-DE...</td>\n",
       "      <td>Aprovação condicionada da PGE. - prazo de vigê...</td>\n",
       "      <td>2025-01-11</td>\n",
       "      <td>2025-01-16 00:00:00</td>\n",
       "      <td>1</td>\n",
       "      <td>Letícia</td>\n",
       "    </tr>\n",
       "    <tr>\n",
       "      <th>4</th>\n",
       "      <td>Aprovado com condicionante</td>\n",
       "      <td>E:01101.0000004456/2023</td>\n",
       "      <td>Cessão de servidor</td>\n",
       "      <td>GABCIVIL</td>\n",
       "      <td>-</td>\n",
       "      <td>Outros</td>\n",
       "      <td>0.00</td>\n",
       "      <td>Renovação da cessão da servidora Othelina Amál...</td>\n",
       "      <td>O Setor de Análise e Instrução Processual – SA...</td>\n",
       "      <td>2025-01-13</td>\n",
       "      <td>NaN</td>\n",
       "      <td>NaN</td>\n",
       "      <td>Beatriz</td>\n",
       "    </tr>\n",
       "  </tbody>\n",
       "</table>\n",
       "</div>"
      ],
      "text/plain": [
       "                  Deliberação           Nº do Processo     Tipo de Despesa  \\\n",
       "0                     SEGURAR  E:05501.0000003447/2024         Contratação   \n",
       "1  Aprovado com condicionante  E:04105.0000002178/2024           Contratos   \n",
       "2  Aprovado com condicionante  E:05501.0000006142/2024                 NaN   \n",
       "3  Aprovado com condicionante  E:05501.0000006141/2024           Contratos   \n",
       "4  Aprovado com condicionante  E:01101.0000004456/2023  Cessão de servidor   \n",
       "\n",
       "  Órgão (UO) Fonte de Recursos Grupo de Despesas        Valor  \\\n",
       "0        DER               500            Outros      1010.40   \n",
       "1     AMGESP         500 e 501            Outros  30392123.82   \n",
       "2        DER               nan            Outros         0.00   \n",
       "3        DER         500 e 501            Outros  35607149.96   \n",
       "4   GABCIVIL                 -            Outros         0.00   \n",
       "\n",
       "                                            Objetivo  \\\n",
       "0    Contratação de serviço de seguro de vida col...   \n",
       "1  Termo Aditivo ao Contrato CPL/SETRAND-DER/AL N...   \n",
       "2                                                NaN   \n",
       "3  Sexto Termo Aditivo ao Contrato CPL/SETRAND-DE...   \n",
       "4  Renovação da cessão da servidora Othelina Amál...   \n",
       "\n",
       "                                          Observação Data de Recebimento  \\\n",
       "0  A legislação exige a proteção dos estagiários ...          2025-01-11   \n",
       "1   Tem como objeto os serviços Contínuos de Cons...          2025-01-09   \n",
       "2                                                NaN          2025-01-11   \n",
       "3  Aprovação condicionada da PGE. - prazo de vigê...          2025-01-11   \n",
       "4  O Setor de Análise e Instrução Processual – SA...          2025-01-13   \n",
       "\n",
       "    Data de Publicação Nº ATA Cadastrado Por  \n",
       "0                  NaN    NaN        Letícia  \n",
       "1  2025-01-16 00:00:00      1        Letícia  \n",
       "2  2025-01-16 00:00:00      1        Letícia  \n",
       "3  2025-01-16 00:00:00      1        Letícia  \n",
       "4                  NaN    NaN        Beatriz  "
      ]
     },
     "execution_count": 236,
     "metadata": {},
     "output_type": "execute_result"
    }
   ],
   "source": [
    "df.head()"
   ]
  },
  {
   "cell_type": "code",
   "execution_count": 237,
   "id": "2bfde2cd",
   "metadata": {},
   "outputs": [
    {
     "data": {
      "text/plain": [
       "array(['SEGURAR', 'Aprovado com condicionante', 'Diligência', nan,\n",
       "       'Aprovado', 'Indeferido', 'Devolvido', 'INTEMPESTIVO',\n",
       "       'Material de consumo', 'Aprovado parcial', 'Vencido', 'VENCIDO'],\n",
       "      dtype=object)"
      ]
     },
     "execution_count": 237,
     "metadata": {},
     "output_type": "execute_result"
    }
   ],
   "source": [
    "# Coluna Deliberação unique\n",
    "df['Deliberação'].unique()"
   ]
  },
  {
   "cell_type": "code",
   "execution_count": 238,
   "id": "4dfb6070",
   "metadata": {},
   "outputs": [],
   "source": [
    "# Onde tiver VENCIDO colocar Vencido, onde tiver INTEMPESTIVO, colocar Intempestivo\n",
    "df['Deliberação'] = df['Deliberação'].replace({'VENCIDO': 'Vencido', 'INTEMPESTIVO': 'Intempestivo', \"SEGURAR\": \"Segurar\"})"
   ]
  },
  {
   "cell_type": "code",
   "execution_count": 239,
   "id": "954030b2",
   "metadata": {},
   "outputs": [],
   "source": [
    "# verificar todo o df, o que for NaN, colocar como \"\"\"\", e as colunas de valores, colocar como 0.00\n",
    "df = df.fillna({\n",
    "    'Deliberação': 'Disponível aos Membros CPOF',\n",
    "    'Nº do Processo': 'Sem Informação',\n",
    "    'Tipo de Despesa': 'Sem Informação',\n",
    "    'Órgão (UO)': 'Sem Informação',\n",
    "    'Fonte de Recursos': 'Sem Informação',\n",
    "    'Grupo de Despesas': 'Sem Informação',\n",
    "    'Valor': 0.00,\n",
    "    'Detalhamento': 'Sem Informação',\n",
    "    'Observação': 'Sem Informação',\n",
    "    'Data de Recebimento': pd.NaT,\n",
    "    'Data de Publicação': pd.NaT,\n",
    "    'ATA': \"Sem Informação\",\n",
    "    'Cadastrado Por': 'Sem Informação'\n",
    "})"
   ]
  },
  {
   "cell_type": "code",
   "execution_count": 240,
   "id": "a8a4b429",
   "metadata": {},
   "outputs": [
    {
     "data": {
      "application/vnd.microsoft.datawrangler.viewer.v0+json": {
       "columns": [
        {
         "name": "index",
         "rawType": "int64",
         "type": "integer"
        },
        {
         "name": "Deliberação",
         "rawType": "object",
         "type": "string"
        },
        {
         "name": "Nº do Processo",
         "rawType": "object",
         "type": "string"
        },
        {
         "name": "Tipo de Despesa",
         "rawType": "object",
         "type": "string"
        },
        {
         "name": "Órgão (UO)",
         "rawType": "object",
         "type": "string"
        },
        {
         "name": "Fonte de Recursos",
         "rawType": "object",
         "type": "string"
        },
        {
         "name": "Grupo de Despesas",
         "rawType": "object",
         "type": "string"
        },
        {
         "name": "Valor",
         "rawType": "float64",
         "type": "float"
        },
        {
         "name": "Objetivo",
         "rawType": "object",
         "type": "unknown"
        },
        {
         "name": "Observação",
         "rawType": "object",
         "type": "string"
        },
        {
         "name": "Data de Recebimento",
         "rawType": "object",
         "type": "unknown"
        },
        {
         "name": "Data de Publicação",
         "rawType": "object",
         "type": "unknown"
        },
        {
         "name": "Nº ATA",
         "rawType": "object",
         "type": "unknown"
        },
        {
         "name": "Cadastrado Por",
         "rawType": "object",
         "type": "string"
        }
       ],
       "ref": "3f26fb3d-f5b7-4e73-a0ec-0d178bd63c42",
       "rows": [
        [
         "0",
         "Segurar",
         "E:05501.0000003447/2024",
         "Contratação",
         "DER",
         "500",
         "Outros",
         "1010.4",
         "  Contratação de serviço de seguro de vida coletivo para estagiários.",
         "A legislação exige a proteção dos estagiários por meio de um seguro específico, cobrindo acidentes durante o estágio, tanto nas atividades internas quanto nos deslocamentos.",
         "2025-01-11",
         null,
         null,
         "Letícia"
        ],
        [
         "1",
         "Aprovado com condicionante",
         "E:04105.0000002178/2024",
         "Contratos",
         "AMGESP",
         "500 e 501",
         "Outros",
         "30392123.82",
         "Termo Aditivo ao Contrato CPL/SETRAND-DER/AL Nº 003/2022-prazo de vigência expirar-se-á no dia 31/01/2025. (APENAS PRAZO)",
         " Tem como objeto os serviços Contínuos de Conservação Rotineira Rodoviária das Rodovias AL-101N/215/220/401/404/407.-prazo de vigência expirar-se-á no dia 31/01/2025.Parecer favorável da PGE- O Termo Aditivo autorizado se refere apenas à prorrogação contratual. (só prazo)",
         "2025-01-09",
         "2025-01-16 00:00:00",
         "1",
         "Letícia"
        ],
        [
         "2",
         "Aprovado com condicionante",
         "E:05501.0000006142/2024",
         "Sem Informação",
         "DER",
         "nan",
         "Outros",
         "0.0",
         null,
         "Sem Informação",
         "2025-01-11",
         "2025-01-16 00:00:00",
         "1",
         "Letícia"
        ],
        [
         "3",
         "Aprovado com condicionante",
         "E:05501.0000006141/2024",
         "Contratos",
         "DER",
         "500 e 501",
         "Outros",
         "35607149.96",
         "Sexto Termo Aditivo ao Contrato CPL/SETRAND-DER/AL nº 002/2022-prazo de vigência dar-se-á em 31 de janeiro de 2025. (APENAS PRAZO)",
         "Aprovação condicionada da PGE. - prazo de vigência dar-se-á em 31 de janeiro de 2024. Tem como objeto os Serviços Contínuos de Conservação Rotineira Rodoviária das Rodovias AL-110/115/120/215/220/225/450/485/486/487.( Apenas prazo, o processo com reequilíbrio financeiro está em tramitação) Está compatível com as prioridades governamentais e o Plano de Governo-SEGOV.",
         "2025-01-11",
         "2025-01-16 00:00:00",
         "1",
         "Letícia"
        ],
        [
         "4",
         "Aprovado com condicionante",
         "E:01101.0000004456/2023",
         "Cessão de servidor",
         "GABCIVIL",
         "-",
         "Outros",
         "0.0",
         "Renovação da cessão da servidora Othelina Amália do Nascimento Holanda, ocupante do cargo efetivo de Médico, Clínico Geral, para continuar fazendo parte do quadro de Pessoal do poder Executivo Municipal.",
         "O Setor de Análise e Instrução Processual – SAIP/GEREVP informa que Othelina Amália do Nascimento Holanda é servidor (a) do Quadro de Cargos Permanente do Serviço Civil do Poder Executivo, lotado (a) no  PAM Salgadinho da Secretaria Municipal de Saúde,  nomeado (a) em, DOE de 11.04.2005, com exercício em 17.05.2005, ocupante do Cargo de Médico, sob Matrícula nº 9864250-2, com carga horária de 24 (vinte e quatro) horas semanais de trabalho.",
         "2025-01-13",
         null,
         null,
         "Beatriz"
        ]
       ],
       "shape": {
        "columns": 13,
        "rows": 5
       }
      },
      "text/html": [
       "<div>\n",
       "<style scoped>\n",
       "    .dataframe tbody tr th:only-of-type {\n",
       "        vertical-align: middle;\n",
       "    }\n",
       "\n",
       "    .dataframe tbody tr th {\n",
       "        vertical-align: top;\n",
       "    }\n",
       "\n",
       "    .dataframe thead th {\n",
       "        text-align: right;\n",
       "    }\n",
       "</style>\n",
       "<table border=\"1\" class=\"dataframe\">\n",
       "  <thead>\n",
       "    <tr style=\"text-align: right;\">\n",
       "      <th></th>\n",
       "      <th>Deliberação</th>\n",
       "      <th>Nº do Processo</th>\n",
       "      <th>Tipo de Despesa</th>\n",
       "      <th>Órgão (UO)</th>\n",
       "      <th>Fonte de Recursos</th>\n",
       "      <th>Grupo de Despesas</th>\n",
       "      <th>Valor</th>\n",
       "      <th>Objetivo</th>\n",
       "      <th>Observação</th>\n",
       "      <th>Data de Recebimento</th>\n",
       "      <th>Data de Publicação</th>\n",
       "      <th>Nº ATA</th>\n",
       "      <th>Cadastrado Por</th>\n",
       "    </tr>\n",
       "  </thead>\n",
       "  <tbody>\n",
       "    <tr>\n",
       "      <th>0</th>\n",
       "      <td>Segurar</td>\n",
       "      <td>E:05501.0000003447/2024</td>\n",
       "      <td>Contratação</td>\n",
       "      <td>DER</td>\n",
       "      <td>500</td>\n",
       "      <td>Outros</td>\n",
       "      <td>1010.40</td>\n",
       "      <td>Contratação de serviço de seguro de vida col...</td>\n",
       "      <td>A legislação exige a proteção dos estagiários ...</td>\n",
       "      <td>2025-01-11</td>\n",
       "      <td>NaT</td>\n",
       "      <td>NaN</td>\n",
       "      <td>Letícia</td>\n",
       "    </tr>\n",
       "    <tr>\n",
       "      <th>1</th>\n",
       "      <td>Aprovado com condicionante</td>\n",
       "      <td>E:04105.0000002178/2024</td>\n",
       "      <td>Contratos</td>\n",
       "      <td>AMGESP</td>\n",
       "      <td>500 e 501</td>\n",
       "      <td>Outros</td>\n",
       "      <td>30392123.82</td>\n",
       "      <td>Termo Aditivo ao Contrato CPL/SETRAND-DER/AL N...</td>\n",
       "      <td>Tem como objeto os serviços Contínuos de Cons...</td>\n",
       "      <td>2025-01-09</td>\n",
       "      <td>2025-01-16 00:00:00</td>\n",
       "      <td>1</td>\n",
       "      <td>Letícia</td>\n",
       "    </tr>\n",
       "    <tr>\n",
       "      <th>2</th>\n",
       "      <td>Aprovado com condicionante</td>\n",
       "      <td>E:05501.0000006142/2024</td>\n",
       "      <td>Sem Informação</td>\n",
       "      <td>DER</td>\n",
       "      <td>nan</td>\n",
       "      <td>Outros</td>\n",
       "      <td>0.00</td>\n",
       "      <td>NaN</td>\n",
       "      <td>Sem Informação</td>\n",
       "      <td>2025-01-11</td>\n",
       "      <td>2025-01-16 00:00:00</td>\n",
       "      <td>1</td>\n",
       "      <td>Letícia</td>\n",
       "    </tr>\n",
       "    <tr>\n",
       "      <th>3</th>\n",
       "      <td>Aprovado com condicionante</td>\n",
       "      <td>E:05501.0000006141/2024</td>\n",
       "      <td>Contratos</td>\n",
       "      <td>DER</td>\n",
       "      <td>500 e 501</td>\n",
       "      <td>Outros</td>\n",
       "      <td>35607149.96</td>\n",
       "      <td>Sexto Termo Aditivo ao Contrato CPL/SETRAND-DE...</td>\n",
       "      <td>Aprovação condicionada da PGE. - prazo de vigê...</td>\n",
       "      <td>2025-01-11</td>\n",
       "      <td>2025-01-16 00:00:00</td>\n",
       "      <td>1</td>\n",
       "      <td>Letícia</td>\n",
       "    </tr>\n",
       "    <tr>\n",
       "      <th>4</th>\n",
       "      <td>Aprovado com condicionante</td>\n",
       "      <td>E:01101.0000004456/2023</td>\n",
       "      <td>Cessão de servidor</td>\n",
       "      <td>GABCIVIL</td>\n",
       "      <td>-</td>\n",
       "      <td>Outros</td>\n",
       "      <td>0.00</td>\n",
       "      <td>Renovação da cessão da servidora Othelina Amál...</td>\n",
       "      <td>O Setor de Análise e Instrução Processual – SA...</td>\n",
       "      <td>2025-01-13</td>\n",
       "      <td>NaT</td>\n",
       "      <td>NaN</td>\n",
       "      <td>Beatriz</td>\n",
       "    </tr>\n",
       "  </tbody>\n",
       "</table>\n",
       "</div>"
      ],
      "text/plain": [
       "                  Deliberação           Nº do Processo     Tipo de Despesa  \\\n",
       "0                     Segurar  E:05501.0000003447/2024         Contratação   \n",
       "1  Aprovado com condicionante  E:04105.0000002178/2024           Contratos   \n",
       "2  Aprovado com condicionante  E:05501.0000006142/2024      Sem Informação   \n",
       "3  Aprovado com condicionante  E:05501.0000006141/2024           Contratos   \n",
       "4  Aprovado com condicionante  E:01101.0000004456/2023  Cessão de servidor   \n",
       "\n",
       "  Órgão (UO) Fonte de Recursos Grupo de Despesas        Valor  \\\n",
       "0        DER               500            Outros      1010.40   \n",
       "1     AMGESP         500 e 501            Outros  30392123.82   \n",
       "2        DER               nan            Outros         0.00   \n",
       "3        DER         500 e 501            Outros  35607149.96   \n",
       "4   GABCIVIL                 -            Outros         0.00   \n",
       "\n",
       "                                            Objetivo  \\\n",
       "0    Contratação de serviço de seguro de vida col...   \n",
       "1  Termo Aditivo ao Contrato CPL/SETRAND-DER/AL N...   \n",
       "2                                                NaN   \n",
       "3  Sexto Termo Aditivo ao Contrato CPL/SETRAND-DE...   \n",
       "4  Renovação da cessão da servidora Othelina Amál...   \n",
       "\n",
       "                                          Observação Data de Recebimento  \\\n",
       "0  A legislação exige a proteção dos estagiários ...          2025-01-11   \n",
       "1   Tem como objeto os serviços Contínuos de Cons...          2025-01-09   \n",
       "2                                     Sem Informação          2025-01-11   \n",
       "3  Aprovação condicionada da PGE. - prazo de vigê...          2025-01-11   \n",
       "4  O Setor de Análise e Instrução Processual – SA...          2025-01-13   \n",
       "\n",
       "    Data de Publicação Nº ATA Cadastrado Por  \n",
       "0                  NaT    NaN        Letícia  \n",
       "1  2025-01-16 00:00:00      1        Letícia  \n",
       "2  2025-01-16 00:00:00      1        Letícia  \n",
       "3  2025-01-16 00:00:00      1        Letícia  \n",
       "4                  NaT    NaN        Beatriz  "
      ]
     },
     "execution_count": 240,
     "metadata": {},
     "output_type": "execute_result"
    }
   ],
   "source": [
    "df.head()"
   ]
  },
  {
   "cell_type": "code",
   "execution_count": 241,
   "id": "3d85c057",
   "metadata": {},
   "outputs": [
    {
     "data": {
      "text/plain": [
       "array(['Outros', 'Investimento', 'Sem Informação'], dtype=object)"
      ]
     },
     "execution_count": 241,
     "metadata": {},
     "output_type": "execute_result"
    }
   ],
   "source": [
    "df[\"Grupo de Despesas\"].unique()"
   ]
  },
  {
   "cell_type": "code",
   "execution_count": 242,
   "id": "3b882a67",
   "metadata": {},
   "outputs": [
    {
     "data": {
      "text/plain": [
       "Index(['Deliberação', 'Nº do Processo', 'Tipo de Despesa', 'Órgão (UO)',\n",
       "       'Fonte de Recursos', 'Grupo de Despesas', 'Valor', 'Objetivo',\n",
       "       'Observação', 'Data de Recebimento', 'Data de Publicação', 'Nº ATA',\n",
       "       'Cadastrado Por'],\n",
       "      dtype='object')"
      ]
     },
     "execution_count": 242,
     "metadata": {},
     "output_type": "execute_result"
    }
   ],
   "source": [
    "df.columns"
   ]
  },
  {
   "cell_type": "code",
   "execution_count": 243,
   "id": "73645497",
   "metadata": {},
   "outputs": [],
   "source": [
    "# Adicione colunas e deixe-as vazias\n",
    "# Última Edição, SECRETÁRIA EXECUTIVA, SEPLAG, SEFAZ, GABINETE CIVIL, SEGOV\n",
    "df['Última Edição'] = ''\n",
    "df['SECRETÁRIA EXECUTIVA'] = ''\n",
    "df['SEPLAG'] = ''\n",
    "df['SEFAZ'] = ''\n",
    "df['GABINETE CIVIL'] = ''\n",
    "df['SEGOV'] = ''"
   ]
  },
  {
   "cell_type": "code",
   "execution_count": 244,
   "id": "cf2875fc",
   "metadata": {},
   "outputs": [
    {
     "data": {
      "application/vnd.microsoft.datawrangler.viewer.v0+json": {
       "columns": [
        {
         "name": "index",
         "rawType": "int64",
         "type": "integer"
        },
        {
         "name": "Deliberação",
         "rawType": "object",
         "type": "string"
        },
        {
         "name": "Nº do Processo",
         "rawType": "object",
         "type": "string"
        },
        {
         "name": "Tipo de Despesa",
         "rawType": "object",
         "type": "string"
        },
        {
         "name": "Órgão (UO)",
         "rawType": "object",
         "type": "string"
        },
        {
         "name": "Fonte de Recursos",
         "rawType": "object",
         "type": "string"
        },
        {
         "name": "Grupo de Despesas",
         "rawType": "object",
         "type": "string"
        },
        {
         "name": "Valor",
         "rawType": "float64",
         "type": "float"
        },
        {
         "name": "Objetivo",
         "rawType": "object",
         "type": "unknown"
        },
        {
         "name": "Observação",
         "rawType": "object",
         "type": "string"
        },
        {
         "name": "Data de Recebimento",
         "rawType": "object",
         "type": "unknown"
        },
        {
         "name": "Data de Publicação",
         "rawType": "object",
         "type": "unknown"
        },
        {
         "name": "Nº ATA",
         "rawType": "object",
         "type": "unknown"
        },
        {
         "name": "Cadastrado Por",
         "rawType": "object",
         "type": "string"
        },
        {
         "name": "Última Edição",
         "rawType": "object",
         "type": "string"
        },
        {
         "name": "SECRETÁRIA EXECUTIVA",
         "rawType": "object",
         "type": "string"
        },
        {
         "name": "SEPLAG",
         "rawType": "object",
         "type": "string"
        },
        {
         "name": "SEFAZ",
         "rawType": "object",
         "type": "string"
        },
        {
         "name": "GABINETE CIVIL",
         "rawType": "object",
         "type": "string"
        },
        {
         "name": "SEGOV",
         "rawType": "object",
         "type": "string"
        }
       ],
       "ref": "451ca8ee-b670-4595-af09-1d12916954f4",
       "rows": [
        [
         "0",
         "Segurar",
         "E:05501.0000003447/2024",
         "Contratação",
         "DER",
         "500",
         "Outros",
         "1010.4",
         "  Contratação de serviço de seguro de vida coletivo para estagiários.",
         "A legislação exige a proteção dos estagiários por meio de um seguro específico, cobrindo acidentes durante o estágio, tanto nas atividades internas quanto nos deslocamentos.",
         "2025-01-11",
         null,
         null,
         "Letícia",
         "",
         "",
         "",
         "",
         "",
         ""
        ],
        [
         "1",
         "Aprovado com condicionante",
         "E:04105.0000002178/2024",
         "Contratos",
         "AMGESP",
         "500 e 501",
         "Outros",
         "30392123.82",
         "Termo Aditivo ao Contrato CPL/SETRAND-DER/AL Nº 003/2022-prazo de vigência expirar-se-á no dia 31/01/2025. (APENAS PRAZO)",
         " Tem como objeto os serviços Contínuos de Conservação Rotineira Rodoviária das Rodovias AL-101N/215/220/401/404/407.-prazo de vigência expirar-se-á no dia 31/01/2025.Parecer favorável da PGE- O Termo Aditivo autorizado se refere apenas à prorrogação contratual. (só prazo)",
         "2025-01-09",
         "2025-01-16 00:00:00",
         "1",
         "Letícia",
         "",
         "",
         "",
         "",
         "",
         ""
        ],
        [
         "2",
         "Aprovado com condicionante",
         "E:05501.0000006142/2024",
         "Sem Informação",
         "DER",
         "nan",
         "Outros",
         "0.0",
         null,
         "Sem Informação",
         "2025-01-11",
         "2025-01-16 00:00:00",
         "1",
         "Letícia",
         "",
         "",
         "",
         "",
         "",
         ""
        ],
        [
         "3",
         "Aprovado com condicionante",
         "E:05501.0000006141/2024",
         "Contratos",
         "DER",
         "500 e 501",
         "Outros",
         "35607149.96",
         "Sexto Termo Aditivo ao Contrato CPL/SETRAND-DER/AL nº 002/2022-prazo de vigência dar-se-á em 31 de janeiro de 2025. (APENAS PRAZO)",
         "Aprovação condicionada da PGE. - prazo de vigência dar-se-á em 31 de janeiro de 2024. Tem como objeto os Serviços Contínuos de Conservação Rotineira Rodoviária das Rodovias AL-110/115/120/215/220/225/450/485/486/487.( Apenas prazo, o processo com reequilíbrio financeiro está em tramitação) Está compatível com as prioridades governamentais e o Plano de Governo-SEGOV.",
         "2025-01-11",
         "2025-01-16 00:00:00",
         "1",
         "Letícia",
         "",
         "",
         "",
         "",
         "",
         ""
        ],
        [
         "4",
         "Aprovado com condicionante",
         "E:01101.0000004456/2023",
         "Cessão de servidor",
         "GABCIVIL",
         "-",
         "Outros",
         "0.0",
         "Renovação da cessão da servidora Othelina Amália do Nascimento Holanda, ocupante do cargo efetivo de Médico, Clínico Geral, para continuar fazendo parte do quadro de Pessoal do poder Executivo Municipal.",
         "O Setor de Análise e Instrução Processual – SAIP/GEREVP informa que Othelina Amália do Nascimento Holanda é servidor (a) do Quadro de Cargos Permanente do Serviço Civil do Poder Executivo, lotado (a) no  PAM Salgadinho da Secretaria Municipal de Saúde,  nomeado (a) em, DOE de 11.04.2005, com exercício em 17.05.2005, ocupante do Cargo de Médico, sob Matrícula nº 9864250-2, com carga horária de 24 (vinte e quatro) horas semanais de trabalho.",
         "2025-01-13",
         null,
         null,
         "Beatriz",
         "",
         "",
         "",
         "",
         "",
         ""
        ]
       ],
       "shape": {
        "columns": 19,
        "rows": 5
       }
      },
      "text/html": [
       "<div>\n",
       "<style scoped>\n",
       "    .dataframe tbody tr th:only-of-type {\n",
       "        vertical-align: middle;\n",
       "    }\n",
       "\n",
       "    .dataframe tbody tr th {\n",
       "        vertical-align: top;\n",
       "    }\n",
       "\n",
       "    .dataframe thead th {\n",
       "        text-align: right;\n",
       "    }\n",
       "</style>\n",
       "<table border=\"1\" class=\"dataframe\">\n",
       "  <thead>\n",
       "    <tr style=\"text-align: right;\">\n",
       "      <th></th>\n",
       "      <th>Deliberação</th>\n",
       "      <th>Nº do Processo</th>\n",
       "      <th>Tipo de Despesa</th>\n",
       "      <th>Órgão (UO)</th>\n",
       "      <th>Fonte de Recursos</th>\n",
       "      <th>Grupo de Despesas</th>\n",
       "      <th>Valor</th>\n",
       "      <th>Objetivo</th>\n",
       "      <th>Observação</th>\n",
       "      <th>Data de Recebimento</th>\n",
       "      <th>Data de Publicação</th>\n",
       "      <th>Nº ATA</th>\n",
       "      <th>Cadastrado Por</th>\n",
       "      <th>Última Edição</th>\n",
       "      <th>SECRETÁRIA EXECUTIVA</th>\n",
       "      <th>SEPLAG</th>\n",
       "      <th>SEFAZ</th>\n",
       "      <th>GABINETE CIVIL</th>\n",
       "      <th>SEGOV</th>\n",
       "    </tr>\n",
       "  </thead>\n",
       "  <tbody>\n",
       "    <tr>\n",
       "      <th>0</th>\n",
       "      <td>Segurar</td>\n",
       "      <td>E:05501.0000003447/2024</td>\n",
       "      <td>Contratação</td>\n",
       "      <td>DER</td>\n",
       "      <td>500</td>\n",
       "      <td>Outros</td>\n",
       "      <td>1010.40</td>\n",
       "      <td>Contratação de serviço de seguro de vida col...</td>\n",
       "      <td>A legislação exige a proteção dos estagiários ...</td>\n",
       "      <td>2025-01-11</td>\n",
       "      <td>NaT</td>\n",
       "      <td>NaN</td>\n",
       "      <td>Letícia</td>\n",
       "      <td></td>\n",
       "      <td></td>\n",
       "      <td></td>\n",
       "      <td></td>\n",
       "      <td></td>\n",
       "      <td></td>\n",
       "    </tr>\n",
       "    <tr>\n",
       "      <th>1</th>\n",
       "      <td>Aprovado com condicionante</td>\n",
       "      <td>E:04105.0000002178/2024</td>\n",
       "      <td>Contratos</td>\n",
       "      <td>AMGESP</td>\n",
       "      <td>500 e 501</td>\n",
       "      <td>Outros</td>\n",
       "      <td>30392123.82</td>\n",
       "      <td>Termo Aditivo ao Contrato CPL/SETRAND-DER/AL N...</td>\n",
       "      <td>Tem como objeto os serviços Contínuos de Cons...</td>\n",
       "      <td>2025-01-09</td>\n",
       "      <td>2025-01-16 00:00:00</td>\n",
       "      <td>1</td>\n",
       "      <td>Letícia</td>\n",
       "      <td></td>\n",
       "      <td></td>\n",
       "      <td></td>\n",
       "      <td></td>\n",
       "      <td></td>\n",
       "      <td></td>\n",
       "    </tr>\n",
       "    <tr>\n",
       "      <th>2</th>\n",
       "      <td>Aprovado com condicionante</td>\n",
       "      <td>E:05501.0000006142/2024</td>\n",
       "      <td>Sem Informação</td>\n",
       "      <td>DER</td>\n",
       "      <td>nan</td>\n",
       "      <td>Outros</td>\n",
       "      <td>0.00</td>\n",
       "      <td>NaN</td>\n",
       "      <td>Sem Informação</td>\n",
       "      <td>2025-01-11</td>\n",
       "      <td>2025-01-16 00:00:00</td>\n",
       "      <td>1</td>\n",
       "      <td>Letícia</td>\n",
       "      <td></td>\n",
       "      <td></td>\n",
       "      <td></td>\n",
       "      <td></td>\n",
       "      <td></td>\n",
       "      <td></td>\n",
       "    </tr>\n",
       "    <tr>\n",
       "      <th>3</th>\n",
       "      <td>Aprovado com condicionante</td>\n",
       "      <td>E:05501.0000006141/2024</td>\n",
       "      <td>Contratos</td>\n",
       "      <td>DER</td>\n",
       "      <td>500 e 501</td>\n",
       "      <td>Outros</td>\n",
       "      <td>35607149.96</td>\n",
       "      <td>Sexto Termo Aditivo ao Contrato CPL/SETRAND-DE...</td>\n",
       "      <td>Aprovação condicionada da PGE. - prazo de vigê...</td>\n",
       "      <td>2025-01-11</td>\n",
       "      <td>2025-01-16 00:00:00</td>\n",
       "      <td>1</td>\n",
       "      <td>Letícia</td>\n",
       "      <td></td>\n",
       "      <td></td>\n",
       "      <td></td>\n",
       "      <td></td>\n",
       "      <td></td>\n",
       "      <td></td>\n",
       "    </tr>\n",
       "    <tr>\n",
       "      <th>4</th>\n",
       "      <td>Aprovado com condicionante</td>\n",
       "      <td>E:01101.0000004456/2023</td>\n",
       "      <td>Cessão de servidor</td>\n",
       "      <td>GABCIVIL</td>\n",
       "      <td>-</td>\n",
       "      <td>Outros</td>\n",
       "      <td>0.00</td>\n",
       "      <td>Renovação da cessão da servidora Othelina Amál...</td>\n",
       "      <td>O Setor de Análise e Instrução Processual – SA...</td>\n",
       "      <td>2025-01-13</td>\n",
       "      <td>NaT</td>\n",
       "      <td>NaN</td>\n",
       "      <td>Beatriz</td>\n",
       "      <td></td>\n",
       "      <td></td>\n",
       "      <td></td>\n",
       "      <td></td>\n",
       "      <td></td>\n",
       "      <td></td>\n",
       "    </tr>\n",
       "  </tbody>\n",
       "</table>\n",
       "</div>"
      ],
      "text/plain": [
       "                  Deliberação           Nº do Processo     Tipo de Despesa  \\\n",
       "0                     Segurar  E:05501.0000003447/2024         Contratação   \n",
       "1  Aprovado com condicionante  E:04105.0000002178/2024           Contratos   \n",
       "2  Aprovado com condicionante  E:05501.0000006142/2024      Sem Informação   \n",
       "3  Aprovado com condicionante  E:05501.0000006141/2024           Contratos   \n",
       "4  Aprovado com condicionante  E:01101.0000004456/2023  Cessão de servidor   \n",
       "\n",
       "  Órgão (UO) Fonte de Recursos Grupo de Despesas        Valor  \\\n",
       "0        DER               500            Outros      1010.40   \n",
       "1     AMGESP         500 e 501            Outros  30392123.82   \n",
       "2        DER               nan            Outros         0.00   \n",
       "3        DER         500 e 501            Outros  35607149.96   \n",
       "4   GABCIVIL                 -            Outros         0.00   \n",
       "\n",
       "                                            Objetivo  \\\n",
       "0    Contratação de serviço de seguro de vida col...   \n",
       "1  Termo Aditivo ao Contrato CPL/SETRAND-DER/AL N...   \n",
       "2                                                NaN   \n",
       "3  Sexto Termo Aditivo ao Contrato CPL/SETRAND-DE...   \n",
       "4  Renovação da cessão da servidora Othelina Amál...   \n",
       "\n",
       "                                          Observação Data de Recebimento  \\\n",
       "0  A legislação exige a proteção dos estagiários ...          2025-01-11   \n",
       "1   Tem como objeto os serviços Contínuos de Cons...          2025-01-09   \n",
       "2                                     Sem Informação          2025-01-11   \n",
       "3  Aprovação condicionada da PGE. - prazo de vigê...          2025-01-11   \n",
       "4  O Setor de Análise e Instrução Processual – SA...          2025-01-13   \n",
       "\n",
       "    Data de Publicação Nº ATA Cadastrado Por Última Edição  \\\n",
       "0                  NaT    NaN        Letícia                 \n",
       "1  2025-01-16 00:00:00      1        Letícia                 \n",
       "2  2025-01-16 00:00:00      1        Letícia                 \n",
       "3  2025-01-16 00:00:00      1        Letícia                 \n",
       "4                  NaT    NaN        Beatriz                 \n",
       "\n",
       "  SECRETÁRIA EXECUTIVA SEPLAG SEFAZ GABINETE CIVIL SEGOV  \n",
       "0                                                         \n",
       "1                                                         \n",
       "2                                                         \n",
       "3                                                         \n",
       "4                                                         "
      ]
     },
     "execution_count": 244,
     "metadata": {},
     "output_type": "execute_result"
    }
   ],
   "source": [
    "df.head()"
   ]
  },
  {
   "cell_type": "code",
   "execution_count": 245,
   "id": "69ab6c2f",
   "metadata": {},
   "outputs": [
    {
     "data": {
      "application/vnd.microsoft.datawrangler.viewer.v0+json": {
       "columns": [
        {
         "name": "index",
         "rawType": "int64",
         "type": "integer"
        },
        {
         "name": "PROCESSO",
         "rawType": "object",
         "type": "string"
        },
        {
         "name": "INTERESSADO",
         "rawType": "object",
         "type": "string"
        },
        {
         "name": "TIPO DE DESPESA",
         "rawType": "object",
         "type": "string"
        },
        {
         "name": "DETALHAMENTO",
         "rawType": "object",
         "type": "string"
        },
        {
         "name": "FONTE",
         "rawType": "object",
         "type": "unknown"
        },
        {
         "name": "VALOR",
         "rawType": "object",
         "type": "unknown"
        },
        {
         "name": "SEX. EXECUTIVA",
         "rawType": "object",
         "type": "string"
        },
        {
         "name": "SEPLAG",
         "rawType": "object",
         "type": "string"
        },
        {
         "name": "SEFAZ",
         "rawType": "object",
         "type": "string"
        },
        {
         "name": "GAB. CIVIL",
         "rawType": "float64",
         "type": "float"
        },
        {
         "name": "SEGOV",
         "rawType": "float64",
         "type": "float"
        },
        {
         "name": "OBSERVAÇÃO",
         "rawType": "object",
         "type": "string"
        }
       ],
       "ref": "042092d2-0373-4262-9be2-3344bfb61510",
       "rows": [
        [
         "0",
         "E:01203.0000002914/2025",
         "CBMAL",
         "Aquisição",
         "Aquisição de Cilindro de Ar Comprimido (20).",
         "759/753",
         "R$ 44.580,00 ",
         "Aprovar, condicionado as fontes 759 e 753",
         "Segue SE",
         "SEGUE SE",
         null,
         null,
         "Necessidade de uso em ocorrências de resgate envolvendo o efetivo da Diretoria da Força Nacional de Segurança Pública (DFNSP), pois pode comprometer a integridade física do operador gerando graves sequelas, podendo até levá-lo à morte. Não informa se é nova aquisição ou substituição."
        ],
        [
         "1",
         "E:01203.0000003182/2025",
         "CBMAL",
         "Aquisição",
         "Aquisição de 2 Computadores de Mergulho.",
         "501/759",
         "15000",
         "Aprovar",
         "Segue SE",
         "SEGUE SE",
         null,
         null,
         "O referido equipamento será destinado à guarnição de mergulho do Batalhão de Salvamento Aquático, responsável pela execução de operações de mergulho de resgate em todo o território do Estado de Alagoas. O equipamento permite o monitoramento preciso de profundidade, tempo de mergulho, consumo de oxigênio e descompressão, reduzindo os riscos de acidentes, como a doença descompressiva."
        ],
        [
         "2",
         "E:01203.0000003408/2025",
         "CBMAL",
         "Aquisição",
         "Aquisição de 02 viaturas administrativas.",
         "713",
         "R$ 516.302,00",
         "Aprovar, condicionado a fonte 713",
         "Segue SE",
         "SEGUE SE",
         null,
         null,
         "DILIGÊNCIA NA 28ª ATA: Informaram que para promover um ambiente de trabalho mais seguro e saudável e apoiar ações de saúde física e mental dos militares, bem como atividades do CTFID voltadas à aptidão física e práticas desportivas, é necessária a disponibilização de 1 (uma) viatura para os deslocamentos operacionais em todo o estado de Alagoas. E anexaram a tabela referente a frota administrativa. | Por meio da utilização de recursos provenientes do FNSP, a fim de ampliar a mobilidade do Centro de Treinamento Físico e Desporto (CTFID) e do Núcleo de Segurança e Qualidade de Vida no Trabalho (NSQVT) do CBMAL, no deslocamento das unidades do Corpo de Bombeiros em todo o Estado de Alagoas. 02 - Veículo Transporte Pessoal  (Tipo: Camioneta)"
        ],
        [
         "3",
         "E:05101.0000001560/2025",
         "DETRAN",
         "Aquisição",
         " Aquisição de 2500 placas para piso elevado para substituição no Bloco Principal do PRÉDIO SEDE do DETRAN/AL, visto que, as placas atuais estão bem desgastadas devido ao tempo de utilização. ",
         "501",
         " R$ 480.075,00",
         "Quando foi instalado o piso atual? Essa quantidade corresponde a substituição de toda área?",
         "Deve constar nos autos o registro fotográfico das condições atuais do piso, de forma que seja visualizada a substituição, assim como o objeto deve ser melhor especificado, pois deve conter entrega e instalação, não apenas a aquisição. O Mapa de preços não está de acordo com as propostas colacionadas nos autos.",
         "SEGUE SE E SEPLAG",
         null,
         null,
         "Aquisição de placas para piso elevado pela necessidade da substituição das antigas que já estão bem degradadas em função do tempo de utilização. Salienta-se que faz parte das atribuições desta Chefia de Serviços Técnicos de Engenharia os serviços de reformas, ampliações e manutenções preventivas e corretivas, sendo estas se mostrando necessidades constantes nas diversas instalações prediais que compõem a estrutura física desta Autarquia."
        ],
        [
         "4",
         "E:05101.0000012249/2024",
         "DETRAN",
         "Contratos",
         " Contratação EMERGENCIAL do serviço especializado de TALONÁRIOS ELETRÔNICOS  para autuação de infrações de Trânsito para o uso do DETRAN/AL, Polícia Militar do Estado de Alagoas e Secretarias Municipais de Trânsito",
         "752",
         "R$ 3.769.440,00",
         "Aprovar condicionado ao andamento do processo licitatório (está parado no setor CHAQ desde o dia 11/04)",
         "Segue SE",
         "sEGUE SE",
         null,
         null,
         "Se encontra em tramitação o processo E:05101.0000017546/2022 referente ao certame licitatório para a contratação do serviço em tela. Atualmente, os serviços são prestados sem cobertura contratual, pagos por indenização."
        ]
       ],
       "shape": {
        "columns": 12,
        "rows": 5
       }
      },
      "text/html": [
       "<div>\n",
       "<style scoped>\n",
       "    .dataframe tbody tr th:only-of-type {\n",
       "        vertical-align: middle;\n",
       "    }\n",
       "\n",
       "    .dataframe tbody tr th {\n",
       "        vertical-align: top;\n",
       "    }\n",
       "\n",
       "    .dataframe thead th {\n",
       "        text-align: right;\n",
       "    }\n",
       "</style>\n",
       "<table border=\"1\" class=\"dataframe\">\n",
       "  <thead>\n",
       "    <tr style=\"text-align: right;\">\n",
       "      <th></th>\n",
       "      <th>PROCESSO</th>\n",
       "      <th>INTERESSADO</th>\n",
       "      <th>TIPO DE DESPESA</th>\n",
       "      <th>DETALHAMENTO</th>\n",
       "      <th>FONTE</th>\n",
       "      <th>VALOR</th>\n",
       "      <th>SEX. EXECUTIVA</th>\n",
       "      <th>SEPLAG</th>\n",
       "      <th>SEFAZ</th>\n",
       "      <th>GAB. CIVIL</th>\n",
       "      <th>SEGOV</th>\n",
       "      <th>OBSERVAÇÃO</th>\n",
       "    </tr>\n",
       "  </thead>\n",
       "  <tbody>\n",
       "    <tr>\n",
       "      <th>0</th>\n",
       "      <td>E:01203.0000002914/2025</td>\n",
       "      <td>CBMAL</td>\n",
       "      <td>Aquisição</td>\n",
       "      <td>Aquisição de Cilindro de Ar Comprimido (20).</td>\n",
       "      <td>759/753</td>\n",
       "      <td>R$ 44.580,00</td>\n",
       "      <td>Aprovar, condicionado as fontes 759 e 753</td>\n",
       "      <td>Segue SE</td>\n",
       "      <td>SEGUE SE</td>\n",
       "      <td>NaN</td>\n",
       "      <td>NaN</td>\n",
       "      <td>Necessidade de uso em ocorrências de resgate e...</td>\n",
       "    </tr>\n",
       "    <tr>\n",
       "      <th>1</th>\n",
       "      <td>E:01203.0000003182/2025</td>\n",
       "      <td>CBMAL</td>\n",
       "      <td>Aquisição</td>\n",
       "      <td>Aquisição de 2 Computadores de Mergulho.</td>\n",
       "      <td>501/759</td>\n",
       "      <td>15000</td>\n",
       "      <td>Aprovar</td>\n",
       "      <td>Segue SE</td>\n",
       "      <td>SEGUE SE</td>\n",
       "      <td>NaN</td>\n",
       "      <td>NaN</td>\n",
       "      <td>O referido equipamento será destinado à guarni...</td>\n",
       "    </tr>\n",
       "    <tr>\n",
       "      <th>2</th>\n",
       "      <td>E:01203.0000003408/2025</td>\n",
       "      <td>CBMAL</td>\n",
       "      <td>Aquisição</td>\n",
       "      <td>Aquisição de 02 viaturas administrativas.</td>\n",
       "      <td>713</td>\n",
       "      <td>R$ 516.302,00</td>\n",
       "      <td>Aprovar, condicionado a fonte 713</td>\n",
       "      <td>Segue SE</td>\n",
       "      <td>SEGUE SE</td>\n",
       "      <td>NaN</td>\n",
       "      <td>NaN</td>\n",
       "      <td>DILIGÊNCIA NA 28ª ATA: Informaram que para pro...</td>\n",
       "    </tr>\n",
       "    <tr>\n",
       "      <th>3</th>\n",
       "      <td>E:05101.0000001560/2025</td>\n",
       "      <td>DETRAN</td>\n",
       "      <td>Aquisição</td>\n",
       "      <td>Aquisição de 2500 placas para piso elevado pa...</td>\n",
       "      <td>501</td>\n",
       "      <td>R$ 480.075,00</td>\n",
       "      <td>Quando foi instalado o piso atual? Essa quanti...</td>\n",
       "      <td>Deve constar nos autos o registro fotográfico ...</td>\n",
       "      <td>SEGUE SE E SEPLAG</td>\n",
       "      <td>NaN</td>\n",
       "      <td>NaN</td>\n",
       "      <td>Aquisição de placas para piso elevado pela nec...</td>\n",
       "    </tr>\n",
       "    <tr>\n",
       "      <th>4</th>\n",
       "      <td>E:05101.0000012249/2024</td>\n",
       "      <td>DETRAN</td>\n",
       "      <td>Contratos</td>\n",
       "      <td>Contratação EMERGENCIAL do serviço especializ...</td>\n",
       "      <td>752</td>\n",
       "      <td>R$ 3.769.440,00</td>\n",
       "      <td>Aprovar condicionado ao andamento do processo ...</td>\n",
       "      <td>Segue SE</td>\n",
       "      <td>sEGUE SE</td>\n",
       "      <td>NaN</td>\n",
       "      <td>NaN</td>\n",
       "      <td>Se encontra em tramitação o processo E:05101.0...</td>\n",
       "    </tr>\n",
       "  </tbody>\n",
       "</table>\n",
       "</div>"
      ],
      "text/plain": [
       "                  PROCESSO INTERESSADO TIPO DE DESPESA  \\\n",
       "0  E:01203.0000002914/2025       CBMAL       Aquisição   \n",
       "1  E:01203.0000003182/2025       CBMAL       Aquisição   \n",
       "2  E:01203.0000003408/2025       CBMAL       Aquisição   \n",
       "3  E:05101.0000001560/2025      DETRAN       Aquisição   \n",
       "4  E:05101.0000012249/2024      DETRAN       Contratos   \n",
       "\n",
       "                                        DETALHAMENTO    FONTE  \\\n",
       "0       Aquisição de Cilindro de Ar Comprimido (20).  759/753   \n",
       "1           Aquisição de 2 Computadores de Mergulho.  501/759   \n",
       "2          Aquisição de 02 viaturas administrativas.      713   \n",
       "3   Aquisição de 2500 placas para piso elevado pa...      501   \n",
       "4   Contratação EMERGENCIAL do serviço especializ...      752   \n",
       "\n",
       "             VALOR                                     SEX. EXECUTIVA  \\\n",
       "0    R$ 44.580,00           Aprovar, condicionado as fontes 759 e 753   \n",
       "1            15000                                            Aprovar   \n",
       "2    R$ 516.302,00                  Aprovar, condicionado a fonte 713   \n",
       "3    R$ 480.075,00  Quando foi instalado o piso atual? Essa quanti...   \n",
       "4  R$ 3.769.440,00  Aprovar condicionado ao andamento do processo ...   \n",
       "\n",
       "                                              SEPLAG              SEFAZ  \\\n",
       "0                                           Segue SE           SEGUE SE   \n",
       "1                                           Segue SE           SEGUE SE   \n",
       "2                                           Segue SE           SEGUE SE   \n",
       "3  Deve constar nos autos o registro fotográfico ...  SEGUE SE E SEPLAG   \n",
       "4                                           Segue SE           sEGUE SE   \n",
       "\n",
       "   GAB. CIVIL  SEGOV                                         OBSERVAÇÃO  \n",
       "0         NaN    NaN  Necessidade de uso em ocorrências de resgate e...  \n",
       "1         NaN    NaN  O referido equipamento será destinado à guarni...  \n",
       "2         NaN    NaN  DILIGÊNCIA NA 28ª ATA: Informaram que para pro...  \n",
       "3         NaN    NaN  Aquisição de placas para piso elevado pela nec...  \n",
       "4         NaN    NaN  Se encontra em tramitação o processo E:05101.0...  "
      ]
     },
     "execution_count": 245,
     "metadata": {},
     "output_type": "execute_result"
    }
   ],
   "source": [
    "minuta_geral.head()"
   ]
  },
  {
   "cell_type": "code",
   "execution_count": 246,
   "id": "0aed1705",
   "metadata": {},
   "outputs": [],
   "source": [
    "import pandas as pd\n",
    "\n",
    "# Leitura dos arquivos\n",
    "minuta_geral = pd.read_excel('minuta.xlsx', sheet_name='GERAL')\n",
    "minuta_credito = pd.read_excel('minuta.xlsx', sheet_name='CRÉDITO')\n",
    "minuta_indenizatorios = pd.read_excel('minuta.xlsx', sheet_name='INDENIZATÓRIOS')\n",
    "minuta_passagemdiarias = pd.read_excel('minuta.xlsx', sheet_name='PASSAGENSDIÁRIAS')\n",
    "\n",
    "# Função para buscar e preencher os dados das colunas específicas\n",
    "def atualizar_colunas_por_processo(base_df, ref_df, col_processo_base, col_processo_ref, colunas_origem, colunas_destino):\n",
    "    for i, processo in base_df[col_processo_base].items():\n",
    "        if pd.isna(processo):\n",
    "            continue\n",
    "        linha_ref = ref_df[ref_df[col_processo_ref].astype(str).str.contains(str(processo), na=False)]\n",
    "        if not linha_ref.empty:\n",
    "            for col_origem, col_destino in zip(colunas_origem, colunas_destino):\n",
    "                base_df.at[i, col_destino] = linha_ref.iloc[0][col_origem]\n",
    "    return base_df\n",
    "\n",
    "# Define colunas a serem transferidas\n",
    "colunas_origem = ['SEX. EXECUTIVA', 'SEPLAG', 'SEFAZ', 'GAB. CIVIL', 'SEGOV']\n",
    "colunas_destino = ['SECRETÁRIA EXECUTIVA', 'SEPLAG', 'SEFAZ', 'GABINETE CIVIL', 'SEGOV']\n",
    "\n",
    "# Atualiza df com base nas outras planilhas\n",
    "df = atualizar_colunas_por_processo(\n",
    "    base_df=df,\n",
    "    ref_df=minuta_credito,\n",
    "    col_processo_base='Nº do Processo',\n",
    "    col_processo_ref='PROCESSO',\n",
    "    colunas_origem=colunas_origem,\n",
    "    colunas_destino=colunas_destino\n",
    ")\n",
    "\n",
    "df = atualizar_colunas_por_processo(\n",
    "    base_df=df,\n",
    "    ref_df=minuta_indenizatorios,\n",
    "    col_processo_base='Nº do Processo',\n",
    "    col_processo_ref='PROCESSO',\n",
    "    colunas_origem=colunas_origem,\n",
    "    colunas_destino=colunas_destino\n",
    ")\n",
    "\n",
    "df = atualizar_colunas_por_processo(\n",
    "    base_df=df,\n",
    "    ref_df=minuta_passagemdiarias,\n",
    "    col_processo_base='Nº do Processo',\n",
    "    col_processo_ref='PROCESSO',\n",
    "    colunas_origem=colunas_origem,\n",
    "    colunas_destino=colunas_destino\n",
    ")\n"
   ]
  },
  {
   "cell_type": "code",
   "execution_count": 247,
   "id": "8b13e805",
   "metadata": {},
   "outputs": [
    {
     "data": {
      "application/vnd.microsoft.datawrangler.viewer.v0+json": {
       "columns": [
        {
         "name": "index",
         "rawType": "int64",
         "type": "integer"
        },
        {
         "name": "Deliberação",
         "rawType": "object",
         "type": "string"
        },
        {
         "name": "Nº do Processo",
         "rawType": "object",
         "type": "string"
        },
        {
         "name": "Tipo de Despesa",
         "rawType": "object",
         "type": "string"
        },
        {
         "name": "Órgão (UO)",
         "rawType": "object",
         "type": "string"
        },
        {
         "name": "Fonte de Recursos",
         "rawType": "object",
         "type": "string"
        },
        {
         "name": "Grupo de Despesas",
         "rawType": "object",
         "type": "string"
        },
        {
         "name": "Valor",
         "rawType": "float64",
         "type": "float"
        },
        {
         "name": "Objetivo",
         "rawType": "object",
         "type": "unknown"
        },
        {
         "name": "Observação",
         "rawType": "object",
         "type": "string"
        },
        {
         "name": "Data de Recebimento",
         "rawType": "object",
         "type": "unknown"
        },
        {
         "name": "Data de Publicação",
         "rawType": "object",
         "type": "unknown"
        },
        {
         "name": "Nº ATA",
         "rawType": "object",
         "type": "unknown"
        },
        {
         "name": "Cadastrado Por",
         "rawType": "object",
         "type": "string"
        },
        {
         "name": "Última Edição",
         "rawType": "object",
         "type": "string"
        },
        {
         "name": "SECRETÁRIA EXECUTIVA",
         "rawType": "object",
         "type": "string"
        },
        {
         "name": "SEPLAG",
         "rawType": "object",
         "type": "string"
        },
        {
         "name": "SEFAZ",
         "rawType": "object",
         "type": "string"
        },
        {
         "name": "GABINETE CIVIL",
         "rawType": "object",
         "type": "string"
        },
        {
         "name": "SEGOV",
         "rawType": "object",
         "type": "string"
        }
       ],
       "ref": "4f85c114-a761-49b3-b143-9dab4e9f1e9e",
       "rows": [
        [
         "0",
         "Segurar",
         "E:05501.0000003447/2024",
         "Contratação",
         "DER",
         "500",
         "Outros",
         "1010.4",
         "  Contratação de serviço de seguro de vida coletivo para estagiários.",
         "A legislação exige a proteção dos estagiários por meio de um seguro específico, cobrindo acidentes durante o estágio, tanto nas atividades internas quanto nos deslocamentos.",
         "2025-01-11",
         null,
         null,
         "Letícia",
         "",
         "",
         "",
         "",
         "",
         ""
        ],
        [
         "1",
         "Aprovado com condicionante",
         "E:04105.0000002178/2024",
         "Contratos",
         "AMGESP",
         "500 e 501",
         "Outros",
         "30392123.82",
         "Termo Aditivo ao Contrato CPL/SETRAND-DER/AL Nº 003/2022-prazo de vigência expirar-se-á no dia 31/01/2025. (APENAS PRAZO)",
         " Tem como objeto os serviços Contínuos de Conservação Rotineira Rodoviária das Rodovias AL-101N/215/220/401/404/407.-prazo de vigência expirar-se-á no dia 31/01/2025.Parecer favorável da PGE- O Termo Aditivo autorizado se refere apenas à prorrogação contratual. (só prazo)",
         "2025-01-09",
         "2025-01-16 00:00:00",
         "1",
         "Letícia",
         "",
         "",
         "",
         "",
         "",
         ""
        ],
        [
         "2",
         "Aprovado com condicionante",
         "E:05501.0000006142/2024",
         "Sem Informação",
         "DER",
         "nan",
         "Outros",
         "0.0",
         null,
         "Sem Informação",
         "2025-01-11",
         "2025-01-16 00:00:00",
         "1",
         "Letícia",
         "",
         "",
         "",
         "",
         "",
         ""
        ],
        [
         "3",
         "Aprovado com condicionante",
         "E:05501.0000006141/2024",
         "Contratos",
         "DER",
         "500 e 501",
         "Outros",
         "35607149.96",
         "Sexto Termo Aditivo ao Contrato CPL/SETRAND-DER/AL nº 002/2022-prazo de vigência dar-se-á em 31 de janeiro de 2025. (APENAS PRAZO)",
         "Aprovação condicionada da PGE. - prazo de vigência dar-se-á em 31 de janeiro de 2024. Tem como objeto os Serviços Contínuos de Conservação Rotineira Rodoviária das Rodovias AL-110/115/120/215/220/225/450/485/486/487.( Apenas prazo, o processo com reequilíbrio financeiro está em tramitação) Está compatível com as prioridades governamentais e o Plano de Governo-SEGOV.",
         "2025-01-11",
         "2025-01-16 00:00:00",
         "1",
         "Letícia",
         "",
         "",
         "",
         "",
         "",
         ""
        ],
        [
         "4",
         "Aprovado com condicionante",
         "E:01101.0000004456/2023",
         "Cessão de servidor",
         "GABCIVIL",
         "-",
         "Outros",
         "0.0",
         "Renovação da cessão da servidora Othelina Amália do Nascimento Holanda, ocupante do cargo efetivo de Médico, Clínico Geral, para continuar fazendo parte do quadro de Pessoal do poder Executivo Municipal.",
         "O Setor de Análise e Instrução Processual – SAIP/GEREVP informa que Othelina Amália do Nascimento Holanda é servidor (a) do Quadro de Cargos Permanente do Serviço Civil do Poder Executivo, lotado (a) no  PAM Salgadinho da Secretaria Municipal de Saúde,  nomeado (a) em, DOE de 11.04.2005, com exercício em 17.05.2005, ocupante do Cargo de Médico, sob Matrícula nº 9864250-2, com carga horária de 24 (vinte e quatro) horas semanais de trabalho.",
         "2025-01-13",
         null,
         null,
         "Beatriz",
         "",
         "",
         "",
         "",
         "",
         ""
        ]
       ],
       "shape": {
        "columns": 19,
        "rows": 5
       }
      },
      "text/html": [
       "<div>\n",
       "<style scoped>\n",
       "    .dataframe tbody tr th:only-of-type {\n",
       "        vertical-align: middle;\n",
       "    }\n",
       "\n",
       "    .dataframe tbody tr th {\n",
       "        vertical-align: top;\n",
       "    }\n",
       "\n",
       "    .dataframe thead th {\n",
       "        text-align: right;\n",
       "    }\n",
       "</style>\n",
       "<table border=\"1\" class=\"dataframe\">\n",
       "  <thead>\n",
       "    <tr style=\"text-align: right;\">\n",
       "      <th></th>\n",
       "      <th>Deliberação</th>\n",
       "      <th>Nº do Processo</th>\n",
       "      <th>Tipo de Despesa</th>\n",
       "      <th>Órgão (UO)</th>\n",
       "      <th>Fonte de Recursos</th>\n",
       "      <th>Grupo de Despesas</th>\n",
       "      <th>Valor</th>\n",
       "      <th>Objetivo</th>\n",
       "      <th>Observação</th>\n",
       "      <th>Data de Recebimento</th>\n",
       "      <th>Data de Publicação</th>\n",
       "      <th>Nº ATA</th>\n",
       "      <th>Cadastrado Por</th>\n",
       "      <th>Última Edição</th>\n",
       "      <th>SECRETÁRIA EXECUTIVA</th>\n",
       "      <th>SEPLAG</th>\n",
       "      <th>SEFAZ</th>\n",
       "      <th>GABINETE CIVIL</th>\n",
       "      <th>SEGOV</th>\n",
       "    </tr>\n",
       "  </thead>\n",
       "  <tbody>\n",
       "    <tr>\n",
       "      <th>0</th>\n",
       "      <td>Segurar</td>\n",
       "      <td>E:05501.0000003447/2024</td>\n",
       "      <td>Contratação</td>\n",
       "      <td>DER</td>\n",
       "      <td>500</td>\n",
       "      <td>Outros</td>\n",
       "      <td>1010.40</td>\n",
       "      <td>Contratação de serviço de seguro de vida col...</td>\n",
       "      <td>A legislação exige a proteção dos estagiários ...</td>\n",
       "      <td>2025-01-11</td>\n",
       "      <td>NaT</td>\n",
       "      <td>NaN</td>\n",
       "      <td>Letícia</td>\n",
       "      <td></td>\n",
       "      <td></td>\n",
       "      <td></td>\n",
       "      <td></td>\n",
       "      <td></td>\n",
       "      <td></td>\n",
       "    </tr>\n",
       "    <tr>\n",
       "      <th>1</th>\n",
       "      <td>Aprovado com condicionante</td>\n",
       "      <td>E:04105.0000002178/2024</td>\n",
       "      <td>Contratos</td>\n",
       "      <td>AMGESP</td>\n",
       "      <td>500 e 501</td>\n",
       "      <td>Outros</td>\n",
       "      <td>30392123.82</td>\n",
       "      <td>Termo Aditivo ao Contrato CPL/SETRAND-DER/AL N...</td>\n",
       "      <td>Tem como objeto os serviços Contínuos de Cons...</td>\n",
       "      <td>2025-01-09</td>\n",
       "      <td>2025-01-16 00:00:00</td>\n",
       "      <td>1</td>\n",
       "      <td>Letícia</td>\n",
       "      <td></td>\n",
       "      <td></td>\n",
       "      <td></td>\n",
       "      <td></td>\n",
       "      <td></td>\n",
       "      <td></td>\n",
       "    </tr>\n",
       "    <tr>\n",
       "      <th>2</th>\n",
       "      <td>Aprovado com condicionante</td>\n",
       "      <td>E:05501.0000006142/2024</td>\n",
       "      <td>Sem Informação</td>\n",
       "      <td>DER</td>\n",
       "      <td>nan</td>\n",
       "      <td>Outros</td>\n",
       "      <td>0.00</td>\n",
       "      <td>NaN</td>\n",
       "      <td>Sem Informação</td>\n",
       "      <td>2025-01-11</td>\n",
       "      <td>2025-01-16 00:00:00</td>\n",
       "      <td>1</td>\n",
       "      <td>Letícia</td>\n",
       "      <td></td>\n",
       "      <td></td>\n",
       "      <td></td>\n",
       "      <td></td>\n",
       "      <td></td>\n",
       "      <td></td>\n",
       "    </tr>\n",
       "    <tr>\n",
       "      <th>3</th>\n",
       "      <td>Aprovado com condicionante</td>\n",
       "      <td>E:05501.0000006141/2024</td>\n",
       "      <td>Contratos</td>\n",
       "      <td>DER</td>\n",
       "      <td>500 e 501</td>\n",
       "      <td>Outros</td>\n",
       "      <td>35607149.96</td>\n",
       "      <td>Sexto Termo Aditivo ao Contrato CPL/SETRAND-DE...</td>\n",
       "      <td>Aprovação condicionada da PGE. - prazo de vigê...</td>\n",
       "      <td>2025-01-11</td>\n",
       "      <td>2025-01-16 00:00:00</td>\n",
       "      <td>1</td>\n",
       "      <td>Letícia</td>\n",
       "      <td></td>\n",
       "      <td></td>\n",
       "      <td></td>\n",
       "      <td></td>\n",
       "      <td></td>\n",
       "      <td></td>\n",
       "    </tr>\n",
       "    <tr>\n",
       "      <th>4</th>\n",
       "      <td>Aprovado com condicionante</td>\n",
       "      <td>E:01101.0000004456/2023</td>\n",
       "      <td>Cessão de servidor</td>\n",
       "      <td>GABCIVIL</td>\n",
       "      <td>-</td>\n",
       "      <td>Outros</td>\n",
       "      <td>0.00</td>\n",
       "      <td>Renovação da cessão da servidora Othelina Amál...</td>\n",
       "      <td>O Setor de Análise e Instrução Processual – SA...</td>\n",
       "      <td>2025-01-13</td>\n",
       "      <td>NaT</td>\n",
       "      <td>NaN</td>\n",
       "      <td>Beatriz</td>\n",
       "      <td></td>\n",
       "      <td></td>\n",
       "      <td></td>\n",
       "      <td></td>\n",
       "      <td></td>\n",
       "      <td></td>\n",
       "    </tr>\n",
       "  </tbody>\n",
       "</table>\n",
       "</div>"
      ],
      "text/plain": [
       "                  Deliberação           Nº do Processo     Tipo de Despesa  \\\n",
       "0                     Segurar  E:05501.0000003447/2024         Contratação   \n",
       "1  Aprovado com condicionante  E:04105.0000002178/2024           Contratos   \n",
       "2  Aprovado com condicionante  E:05501.0000006142/2024      Sem Informação   \n",
       "3  Aprovado com condicionante  E:05501.0000006141/2024           Contratos   \n",
       "4  Aprovado com condicionante  E:01101.0000004456/2023  Cessão de servidor   \n",
       "\n",
       "  Órgão (UO) Fonte de Recursos Grupo de Despesas        Valor  \\\n",
       "0        DER               500            Outros      1010.40   \n",
       "1     AMGESP         500 e 501            Outros  30392123.82   \n",
       "2        DER               nan            Outros         0.00   \n",
       "3        DER         500 e 501            Outros  35607149.96   \n",
       "4   GABCIVIL                 -            Outros         0.00   \n",
       "\n",
       "                                            Objetivo  \\\n",
       "0    Contratação de serviço de seguro de vida col...   \n",
       "1  Termo Aditivo ao Contrato CPL/SETRAND-DER/AL N...   \n",
       "2                                                NaN   \n",
       "3  Sexto Termo Aditivo ao Contrato CPL/SETRAND-DE...   \n",
       "4  Renovação da cessão da servidora Othelina Amál...   \n",
       "\n",
       "                                          Observação Data de Recebimento  \\\n",
       "0  A legislação exige a proteção dos estagiários ...          2025-01-11   \n",
       "1   Tem como objeto os serviços Contínuos de Cons...          2025-01-09   \n",
       "2                                     Sem Informação          2025-01-11   \n",
       "3  Aprovação condicionada da PGE. - prazo de vigê...          2025-01-11   \n",
       "4  O Setor de Análise e Instrução Processual – SA...          2025-01-13   \n",
       "\n",
       "    Data de Publicação Nº ATA Cadastrado Por Última Edição  \\\n",
       "0                  NaT    NaN        Letícia                 \n",
       "1  2025-01-16 00:00:00      1        Letícia                 \n",
       "2  2025-01-16 00:00:00      1        Letícia                 \n",
       "3  2025-01-16 00:00:00      1        Letícia                 \n",
       "4                  NaT    NaN        Beatriz                 \n",
       "\n",
       "  SECRETÁRIA EXECUTIVA SEPLAG SEFAZ GABINETE CIVIL SEGOV  \n",
       "0                                                         \n",
       "1                                                         \n",
       "2                                                         \n",
       "3                                                         \n",
       "4                                                         "
      ]
     },
     "execution_count": 247,
     "metadata": {},
     "output_type": "execute_result"
    }
   ],
   "source": [
    "df.head()"
   ]
  },
  {
   "cell_type": "code",
   "execution_count": 248,
   "id": "b46df5dd",
   "metadata": {},
   "outputs": [
    {
     "data": {
      "application/vnd.microsoft.datawrangler.viewer.v0+json": {
       "columns": [
        {
         "name": "index",
         "rawType": "object",
         "type": "string"
        },
        {
         "name": "0",
         "rawType": "object",
         "type": "unknown"
        }
       ],
       "ref": "122c8951-37de-4a5a-941d-e717ef19d335",
       "rows": [
        [
         "Deliberação",
         "object"
        ],
        [
         "Nº do Processo",
         "object"
        ],
        [
         "Tipo de Despesa",
         "object"
        ],
        [
         "Órgão (UO)",
         "object"
        ],
        [
         "Fonte de Recursos",
         "object"
        ],
        [
         "Grupo de Despesas",
         "object"
        ],
        [
         "Valor",
         "float64"
        ],
        [
         "Objetivo",
         "object"
        ],
        [
         "Observação",
         "object"
        ],
        [
         "Data de Recebimento",
         "object"
        ],
        [
         "Data de Publicação",
         "object"
        ],
        [
         "Nº ATA",
         "object"
        ],
        [
         "Cadastrado Por",
         "object"
        ],
        [
         "Última Edição",
         "object"
        ],
        [
         "SECRETÁRIA EXECUTIVA",
         "object"
        ],
        [
         "SEPLAG",
         "object"
        ],
        [
         "SEFAZ",
         "object"
        ],
        [
         "GABINETE CIVIL",
         "object"
        ],
        [
         "SEGOV",
         "object"
        ]
       ],
       "shape": {
        "columns": 1,
        "rows": 19
       }
      },
      "text/plain": [
       "Deliberação              object\n",
       "Nº do Processo           object\n",
       "Tipo de Despesa          object\n",
       "Órgão (UO)               object\n",
       "Fonte de Recursos        object\n",
       "Grupo de Despesas        object\n",
       "Valor                   float64\n",
       "Objetivo                 object\n",
       "Observação               object\n",
       "Data de Recebimento      object\n",
       "Data de Publicação       object\n",
       "Nº ATA                   object\n",
       "Cadastrado Por           object\n",
       "Última Edição            object\n",
       "SECRETÁRIA EXECUTIVA     object\n",
       "SEPLAG                   object\n",
       "SEFAZ                    object\n",
       "GABINETE CIVIL           object\n",
       "SEGOV                    object\n",
       "dtype: object"
      ]
     },
     "execution_count": 248,
     "metadata": {},
     "output_type": "execute_result"
    }
   ],
   "source": [
    "df.dtypes"
   ]
  },
  {
   "cell_type": "code",
   "execution_count": 249,
   "id": "2c62df2a",
   "metadata": {},
   "outputs": [],
   "source": [
    "df['Órgão (UO)'] = df['Órgão (UO)'].str.strip()\n",
    "df['Órgão (UO)'] = df['Órgão (UO)'].str.upper()"
   ]
  },
  {
   "cell_type": "code",
   "execution_count": 250,
   "id": "2bcb73fa",
   "metadata": {},
   "outputs": [],
   "source": [
    "# AL PREV -> ALPREV\n",
    "df['Órgão (UO)'] = df['Órgão (UO)'].replace({'AL PREV': 'ALPREV'})\n"
   ]
  },
  {
   "cell_type": "code",
   "execution_count": 251,
   "id": "84807eaf",
   "metadata": {},
   "outputs": [
    {
     "data": {
      "text/plain": [
       "array(['DER', 'AMGESP', 'GABCIVIL', 'SECTI', 'SEFAZ', 'SECDEF', 'POLCAL',\n",
       "       'ADEAL', 'SETUR', 'SEAGRI', 'VICEGOV', 'JUCEAL', 'UNCISAL',\n",
       "       'SEPLAG', 'SECULT', 'SEDICS', 'SETRAND', 'CBMAL', 'SESAU',\n",
       "       'IDERAL', 'SEINFRA', 'ALPREV', 'SETEQ', 'PMAL', 'PGE', 'SECOM',\n",
       "       'SEADES', 'SERIS', 'SSP', 'PCAL', 'DETRAN', 'SEMUDH', 'SEDUC',\n",
       "       'UNEAL', 'SELAJ', 'SECRIA', 'FAPEAL', 'SERFI', 'IPASEAL', 'SEMARH',\n",
       "       'SEPREV', 'ITERAL', 'EMATER', 'CGE', 'ARSAL', 'CARHP', 'LIFAL',\n",
       "       'DPEAL', 'SEGOV', 'PROCON', 'IMA', 'IZP', 'ITEC', 'DEA', 'CEDEC'],\n",
       "      dtype=object)"
      ]
     },
     "execution_count": 251,
     "metadata": {},
     "output_type": "execute_result"
    }
   ],
   "source": [
    "df['Órgão (UO)'].unique()"
   ]
  },
  {
   "cell_type": "code",
   "execution_count": 252,
   "id": "df2d213e",
   "metadata": {},
   "outputs": [],
   "source": [
    "# em Fonte de Recursos, o que for missin value, ou \"-\", colocar 500\n",
    "df['Fonte de Recursos'] = df['Fonte de Recursos'].replace({'-': 500, pd.NA: 500})"
   ]
  },
  {
   "cell_type": "code",
   "execution_count": 253,
   "id": "4807713d",
   "metadata": {},
   "outputs": [],
   "source": [
    "\n",
    "df['Fonte de Recursos'] = df['Fonte de Recursos'].fillna(500)"
   ]
  },
  {
   "cell_type": "code",
   "execution_count": 254,
   "id": "7d1cf565",
   "metadata": {},
   "outputs": [],
   "source": [
    "df['Fonte de Recursos'] = df['Fonte de Recursos'].replace({'nan': 500})"
   ]
  },
  {
   "cell_type": "code",
   "execution_count": 255,
   "id": "63259d7d",
   "metadata": {},
   "outputs": [],
   "source": [
    "df['Grupo de Despesas'] = df['Grupo de Despesas'].replace({'Investimento':4})\n",
    "df['Grupo de Despesas'] = df['Grupo de Despesas'].replace({'Sem Informação':'Outros'})"
   ]
  },
  {
   "cell_type": "code",
   "execution_count": 256,
   "id": "a1edf056",
   "metadata": {},
   "outputs": [
    {
     "data": {
      "application/vnd.microsoft.datawrangler.viewer.v0+json": {
       "columns": [
        {
         "name": "index",
         "rawType": "int64",
         "type": "integer"
        },
        {
         "name": "Deliberação",
         "rawType": "object",
         "type": "string"
        },
        {
         "name": "Nº do Processo",
         "rawType": "object",
         "type": "string"
        },
        {
         "name": "Tipo de Despesa",
         "rawType": "object",
         "type": "string"
        },
        {
         "name": "Órgão (UO)",
         "rawType": "object",
         "type": "string"
        },
        {
         "name": "Fonte de Recursos",
         "rawType": "object",
         "type": "unknown"
        },
        {
         "name": "Grupo de Despesas",
         "rawType": "object",
         "type": "string"
        },
        {
         "name": "Valor",
         "rawType": "float64",
         "type": "float"
        },
        {
         "name": "Objetivo",
         "rawType": "object",
         "type": "unknown"
        },
        {
         "name": "Observação",
         "rawType": "object",
         "type": "string"
        },
        {
         "name": "Data de Recebimento",
         "rawType": "object",
         "type": "unknown"
        },
        {
         "name": "Data de Publicação",
         "rawType": "object",
         "type": "unknown"
        },
        {
         "name": "Nº ATA",
         "rawType": "object",
         "type": "unknown"
        },
        {
         "name": "Cadastrado Por",
         "rawType": "object",
         "type": "string"
        },
        {
         "name": "Última Edição",
         "rawType": "object",
         "type": "string"
        },
        {
         "name": "SECRETÁRIA EXECUTIVA",
         "rawType": "object",
         "type": "string"
        },
        {
         "name": "SEPLAG",
         "rawType": "object",
         "type": "string"
        },
        {
         "name": "SEFAZ",
         "rawType": "object",
         "type": "string"
        },
        {
         "name": "GABINETE CIVIL",
         "rawType": "object",
         "type": "string"
        },
        {
         "name": "SEGOV",
         "rawType": "object",
         "type": "string"
        }
       ],
       "ref": "1b2c9e0c-00be-48fa-800e-457ac9dd0cd2",
       "rows": [
        [
         "0",
         "Segurar",
         "E:05501.0000003447/2024",
         "Contratação",
         "DER",
         "500",
         "Outros",
         "1010.4",
         "  Contratação de serviço de seguro de vida coletivo para estagiários.",
         "A legislação exige a proteção dos estagiários por meio de um seguro específico, cobrindo acidentes durante o estágio, tanto nas atividades internas quanto nos deslocamentos.",
         "2025-01-11",
         null,
         null,
         "Letícia",
         "",
         "",
         "",
         "",
         "",
         ""
        ],
        [
         "1",
         "Aprovado com condicionante",
         "E:04105.0000002178/2024",
         "Contratos",
         "AMGESP",
         "500 e 501",
         "Outros",
         "30392123.82",
         "Termo Aditivo ao Contrato CPL/SETRAND-DER/AL Nº 003/2022-prazo de vigência expirar-se-á no dia 31/01/2025. (APENAS PRAZO)",
         " Tem como objeto os serviços Contínuos de Conservação Rotineira Rodoviária das Rodovias AL-101N/215/220/401/404/407.-prazo de vigência expirar-se-á no dia 31/01/2025.Parecer favorável da PGE- O Termo Aditivo autorizado se refere apenas à prorrogação contratual. (só prazo)",
         "2025-01-09",
         "2025-01-16 00:00:00",
         "1",
         "Letícia",
         "",
         "",
         "",
         "",
         "",
         ""
        ],
        [
         "2",
         "Aprovado com condicionante",
         "E:05501.0000006142/2024",
         "Sem Informação",
         "DER",
         "500",
         "Outros",
         "0.0",
         null,
         "Sem Informação",
         "2025-01-11",
         "2025-01-16 00:00:00",
         "1",
         "Letícia",
         "",
         "",
         "",
         "",
         "",
         ""
        ],
        [
         "3",
         "Aprovado com condicionante",
         "E:05501.0000006141/2024",
         "Contratos",
         "DER",
         "500 e 501",
         "Outros",
         "35607149.96",
         "Sexto Termo Aditivo ao Contrato CPL/SETRAND-DER/AL nº 002/2022-prazo de vigência dar-se-á em 31 de janeiro de 2025. (APENAS PRAZO)",
         "Aprovação condicionada da PGE. - prazo de vigência dar-se-á em 31 de janeiro de 2024. Tem como objeto os Serviços Contínuos de Conservação Rotineira Rodoviária das Rodovias AL-110/115/120/215/220/225/450/485/486/487.( Apenas prazo, o processo com reequilíbrio financeiro está em tramitação) Está compatível com as prioridades governamentais e o Plano de Governo-SEGOV.",
         "2025-01-11",
         "2025-01-16 00:00:00",
         "1",
         "Letícia",
         "",
         "",
         "",
         "",
         "",
         ""
        ],
        [
         "4",
         "Aprovado com condicionante",
         "E:01101.0000004456/2023",
         "Cessão de servidor",
         "GABCIVIL",
         "500",
         "Outros",
         "0.0",
         "Renovação da cessão da servidora Othelina Amália do Nascimento Holanda, ocupante do cargo efetivo de Médico, Clínico Geral, para continuar fazendo parte do quadro de Pessoal do poder Executivo Municipal.",
         "O Setor de Análise e Instrução Processual – SAIP/GEREVP informa que Othelina Amália do Nascimento Holanda é servidor (a) do Quadro de Cargos Permanente do Serviço Civil do Poder Executivo, lotado (a) no  PAM Salgadinho da Secretaria Municipal de Saúde,  nomeado (a) em, DOE de 11.04.2005, com exercício em 17.05.2005, ocupante do Cargo de Médico, sob Matrícula nº 9864250-2, com carga horária de 24 (vinte e quatro) horas semanais de trabalho.",
         "2025-01-13",
         null,
         null,
         "Beatriz",
         "",
         "",
         "",
         "",
         "",
         ""
        ]
       ],
       "shape": {
        "columns": 19,
        "rows": 5
       }
      },
      "text/html": [
       "<div>\n",
       "<style scoped>\n",
       "    .dataframe tbody tr th:only-of-type {\n",
       "        vertical-align: middle;\n",
       "    }\n",
       "\n",
       "    .dataframe tbody tr th {\n",
       "        vertical-align: top;\n",
       "    }\n",
       "\n",
       "    .dataframe thead th {\n",
       "        text-align: right;\n",
       "    }\n",
       "</style>\n",
       "<table border=\"1\" class=\"dataframe\">\n",
       "  <thead>\n",
       "    <tr style=\"text-align: right;\">\n",
       "      <th></th>\n",
       "      <th>Deliberação</th>\n",
       "      <th>Nº do Processo</th>\n",
       "      <th>Tipo de Despesa</th>\n",
       "      <th>Órgão (UO)</th>\n",
       "      <th>Fonte de Recursos</th>\n",
       "      <th>Grupo de Despesas</th>\n",
       "      <th>Valor</th>\n",
       "      <th>Objetivo</th>\n",
       "      <th>Observação</th>\n",
       "      <th>Data de Recebimento</th>\n",
       "      <th>Data de Publicação</th>\n",
       "      <th>Nº ATA</th>\n",
       "      <th>Cadastrado Por</th>\n",
       "      <th>Última Edição</th>\n",
       "      <th>SECRETÁRIA EXECUTIVA</th>\n",
       "      <th>SEPLAG</th>\n",
       "      <th>SEFAZ</th>\n",
       "      <th>GABINETE CIVIL</th>\n",
       "      <th>SEGOV</th>\n",
       "    </tr>\n",
       "  </thead>\n",
       "  <tbody>\n",
       "    <tr>\n",
       "      <th>0</th>\n",
       "      <td>Segurar</td>\n",
       "      <td>E:05501.0000003447/2024</td>\n",
       "      <td>Contratação</td>\n",
       "      <td>DER</td>\n",
       "      <td>500</td>\n",
       "      <td>Outros</td>\n",
       "      <td>1010.40</td>\n",
       "      <td>Contratação de serviço de seguro de vida col...</td>\n",
       "      <td>A legislação exige a proteção dos estagiários ...</td>\n",
       "      <td>2025-01-11</td>\n",
       "      <td>NaT</td>\n",
       "      <td>NaN</td>\n",
       "      <td>Letícia</td>\n",
       "      <td></td>\n",
       "      <td></td>\n",
       "      <td></td>\n",
       "      <td></td>\n",
       "      <td></td>\n",
       "      <td></td>\n",
       "    </tr>\n",
       "    <tr>\n",
       "      <th>1</th>\n",
       "      <td>Aprovado com condicionante</td>\n",
       "      <td>E:04105.0000002178/2024</td>\n",
       "      <td>Contratos</td>\n",
       "      <td>AMGESP</td>\n",
       "      <td>500 e 501</td>\n",
       "      <td>Outros</td>\n",
       "      <td>30392123.82</td>\n",
       "      <td>Termo Aditivo ao Contrato CPL/SETRAND-DER/AL N...</td>\n",
       "      <td>Tem como objeto os serviços Contínuos de Cons...</td>\n",
       "      <td>2025-01-09</td>\n",
       "      <td>2025-01-16 00:00:00</td>\n",
       "      <td>1</td>\n",
       "      <td>Letícia</td>\n",
       "      <td></td>\n",
       "      <td></td>\n",
       "      <td></td>\n",
       "      <td></td>\n",
       "      <td></td>\n",
       "      <td></td>\n",
       "    </tr>\n",
       "    <tr>\n",
       "      <th>2</th>\n",
       "      <td>Aprovado com condicionante</td>\n",
       "      <td>E:05501.0000006142/2024</td>\n",
       "      <td>Sem Informação</td>\n",
       "      <td>DER</td>\n",
       "      <td>500</td>\n",
       "      <td>Outros</td>\n",
       "      <td>0.00</td>\n",
       "      <td>NaN</td>\n",
       "      <td>Sem Informação</td>\n",
       "      <td>2025-01-11</td>\n",
       "      <td>2025-01-16 00:00:00</td>\n",
       "      <td>1</td>\n",
       "      <td>Letícia</td>\n",
       "      <td></td>\n",
       "      <td></td>\n",
       "      <td></td>\n",
       "      <td></td>\n",
       "      <td></td>\n",
       "      <td></td>\n",
       "    </tr>\n",
       "    <tr>\n",
       "      <th>3</th>\n",
       "      <td>Aprovado com condicionante</td>\n",
       "      <td>E:05501.0000006141/2024</td>\n",
       "      <td>Contratos</td>\n",
       "      <td>DER</td>\n",
       "      <td>500 e 501</td>\n",
       "      <td>Outros</td>\n",
       "      <td>35607149.96</td>\n",
       "      <td>Sexto Termo Aditivo ao Contrato CPL/SETRAND-DE...</td>\n",
       "      <td>Aprovação condicionada da PGE. - prazo de vigê...</td>\n",
       "      <td>2025-01-11</td>\n",
       "      <td>2025-01-16 00:00:00</td>\n",
       "      <td>1</td>\n",
       "      <td>Letícia</td>\n",
       "      <td></td>\n",
       "      <td></td>\n",
       "      <td></td>\n",
       "      <td></td>\n",
       "      <td></td>\n",
       "      <td></td>\n",
       "    </tr>\n",
       "    <tr>\n",
       "      <th>4</th>\n",
       "      <td>Aprovado com condicionante</td>\n",
       "      <td>E:01101.0000004456/2023</td>\n",
       "      <td>Cessão de servidor</td>\n",
       "      <td>GABCIVIL</td>\n",
       "      <td>500</td>\n",
       "      <td>Outros</td>\n",
       "      <td>0.00</td>\n",
       "      <td>Renovação da cessão da servidora Othelina Amál...</td>\n",
       "      <td>O Setor de Análise e Instrução Processual – SA...</td>\n",
       "      <td>2025-01-13</td>\n",
       "      <td>NaT</td>\n",
       "      <td>NaN</td>\n",
       "      <td>Beatriz</td>\n",
       "      <td></td>\n",
       "      <td></td>\n",
       "      <td></td>\n",
       "      <td></td>\n",
       "      <td></td>\n",
       "      <td></td>\n",
       "    </tr>\n",
       "  </tbody>\n",
       "</table>\n",
       "</div>"
      ],
      "text/plain": [
       "                  Deliberação           Nº do Processo     Tipo de Despesa  \\\n",
       "0                     Segurar  E:05501.0000003447/2024         Contratação   \n",
       "1  Aprovado com condicionante  E:04105.0000002178/2024           Contratos   \n",
       "2  Aprovado com condicionante  E:05501.0000006142/2024      Sem Informação   \n",
       "3  Aprovado com condicionante  E:05501.0000006141/2024           Contratos   \n",
       "4  Aprovado com condicionante  E:01101.0000004456/2023  Cessão de servidor   \n",
       "\n",
       "  Órgão (UO) Fonte de Recursos Grupo de Despesas        Valor  \\\n",
       "0        DER               500            Outros      1010.40   \n",
       "1     AMGESP         500 e 501            Outros  30392123.82   \n",
       "2        DER               500            Outros         0.00   \n",
       "3        DER         500 e 501            Outros  35607149.96   \n",
       "4   GABCIVIL               500            Outros         0.00   \n",
       "\n",
       "                                            Objetivo  \\\n",
       "0    Contratação de serviço de seguro de vida col...   \n",
       "1  Termo Aditivo ao Contrato CPL/SETRAND-DER/AL N...   \n",
       "2                                                NaN   \n",
       "3  Sexto Termo Aditivo ao Contrato CPL/SETRAND-DE...   \n",
       "4  Renovação da cessão da servidora Othelina Amál...   \n",
       "\n",
       "                                          Observação Data de Recebimento  \\\n",
       "0  A legislação exige a proteção dos estagiários ...          2025-01-11   \n",
       "1   Tem como objeto os serviços Contínuos de Cons...          2025-01-09   \n",
       "2                                     Sem Informação          2025-01-11   \n",
       "3  Aprovação condicionada da PGE. - prazo de vigê...          2025-01-11   \n",
       "4  O Setor de Análise e Instrução Processual – SA...          2025-01-13   \n",
       "\n",
       "    Data de Publicação Nº ATA Cadastrado Por Última Edição  \\\n",
       "0                  NaT    NaN        Letícia                 \n",
       "1  2025-01-16 00:00:00      1        Letícia                 \n",
       "2  2025-01-16 00:00:00      1        Letícia                 \n",
       "3  2025-01-16 00:00:00      1        Letícia                 \n",
       "4                  NaT    NaN        Beatriz                 \n",
       "\n",
       "  SECRETÁRIA EXECUTIVA SEPLAG SEFAZ GABINETE CIVIL SEGOV  \n",
       "0                                                         \n",
       "1                                                         \n",
       "2                                                         \n",
       "3                                                         \n",
       "4                                                         "
      ]
     },
     "execution_count": 256,
     "metadata": {},
     "output_type": "execute_result"
    }
   ],
   "source": [
    "df.head()"
   ]
  },
  {
   "cell_type": "code",
   "execution_count": 257,
   "id": "6981825b",
   "metadata": {},
   "outputs": [
    {
     "data": {
      "text/plain": [
       "array(['Outros', 4], dtype=object)"
      ]
     },
     "execution_count": 257,
     "metadata": {},
     "output_type": "execute_result"
    }
   ],
   "source": [
    "df['Grupo de Despesas'].unique()"
   ]
  },
  {
   "cell_type": "code",
   "execution_count": 258,
   "id": "97f6a11e",
   "metadata": {},
   "outputs": [],
   "source": [
    "# Na coluna Tipo de Despesa, o que for Sem Informação, colocar Outros\n",
    "df['Tipo de Despesa'] = df['Tipo de Despesa'].replace({'Sem Informação': 'Outros'})"
   ]
  },
  {
   "cell_type": "code",
   "execution_count": 259,
   "id": "33e4d0a3",
   "metadata": {},
   "outputs": [
    {
     "data": {
      "text/plain": [
       "array(['Contratação', 'Contratos', 'Outros', 'Cessão de servidor',\n",
       "       'Parceria', 'Fomento', 'Aquisição', 'Diária', 'Passagem',\n",
       "       'Patrocínio', 'Crédito', 'Capacitação', 'Chamamento público',\n",
       "       'Locação de Veículo', 'Locação de Imóvel', 'Convênio'],\n",
       "      dtype=object)"
      ]
     },
     "execution_count": 259,
     "metadata": {},
     "output_type": "execute_result"
    }
   ],
   "source": [
    "df['Tipo de Despesa'].unique()"
   ]
  },
  {
   "cell_type": "code",
   "execution_count": 260,
   "id": "2a958803",
   "metadata": {},
   "outputs": [
    {
     "data": {
      "application/vnd.microsoft.datawrangler.viewer.v0+json": {
       "columns": [
        {
         "name": "index",
         "rawType": "int64",
         "type": "integer"
        },
        {
         "name": "Deliberação",
         "rawType": "object",
         "type": "string"
        },
        {
         "name": "Nº do Processo",
         "rawType": "object",
         "type": "string"
        },
        {
         "name": "Tipo de Despesa",
         "rawType": "object",
         "type": "string"
        },
        {
         "name": "Órgão (UO)",
         "rawType": "object",
         "type": "string"
        },
        {
         "name": "Fonte de Recursos",
         "rawType": "object",
         "type": "unknown"
        },
        {
         "name": "Grupo de Despesas",
         "rawType": "object",
         "type": "string"
        },
        {
         "name": "Valor",
         "rawType": "float64",
         "type": "float"
        },
        {
         "name": "Objetivo",
         "rawType": "object",
         "type": "unknown"
        },
        {
         "name": "Observação",
         "rawType": "object",
         "type": "string"
        },
        {
         "name": "Data de Recebimento",
         "rawType": "object",
         "type": "unknown"
        },
        {
         "name": "Data de Publicação",
         "rawType": "object",
         "type": "unknown"
        },
        {
         "name": "Nº ATA",
         "rawType": "object",
         "type": "unknown"
        },
        {
         "name": "Cadastrado Por",
         "rawType": "object",
         "type": "string"
        },
        {
         "name": "Última Edição",
         "rawType": "object",
         "type": "string"
        },
        {
         "name": "SECRETÁRIA EXECUTIVA",
         "rawType": "object",
         "type": "string"
        },
        {
         "name": "SEPLAG",
         "rawType": "object",
         "type": "string"
        },
        {
         "name": "SEFAZ",
         "rawType": "object",
         "type": "string"
        },
        {
         "name": "GABINETE CIVIL",
         "rawType": "object",
         "type": "string"
        },
        {
         "name": "SEGOV",
         "rawType": "object",
         "type": "string"
        }
       ],
       "ref": "616caef1-4559-4217-b517-557fc09ad2c3",
       "rows": [
        [
         "0",
         "Segurar",
         "E:05501.0000003447/2024",
         "Contratação",
         "DER",
         "500",
         "Outros",
         "1010.4",
         "  Contratação de serviço de seguro de vida coletivo para estagiários.",
         "A legislação exige a proteção dos estagiários por meio de um seguro específico, cobrindo acidentes durante o estágio, tanto nas atividades internas quanto nos deslocamentos.",
         "2025-01-11",
         null,
         null,
         "Letícia",
         "",
         "",
         "",
         "",
         "",
         ""
        ],
        [
         "1",
         "Aprovado com condicionante",
         "E:04105.0000002178/2024",
         "Contratos",
         "AMGESP",
         "500 e 501",
         "Outros",
         "30392123.82",
         "Termo Aditivo ao Contrato CPL/SETRAND-DER/AL Nº 003/2022-prazo de vigência expirar-se-á no dia 31/01/2025. (APENAS PRAZO)",
         " Tem como objeto os serviços Contínuos de Conservação Rotineira Rodoviária das Rodovias AL-101N/215/220/401/404/407.-prazo de vigência expirar-se-á no dia 31/01/2025.Parecer favorável da PGE- O Termo Aditivo autorizado se refere apenas à prorrogação contratual. (só prazo)",
         "2025-01-09",
         "2025-01-16 00:00:00",
         "1",
         "Letícia",
         "",
         "",
         "",
         "",
         "",
         ""
        ],
        [
         "2",
         "Aprovado com condicionante",
         "E:05501.0000006142/2024",
         "Outros",
         "DER",
         "500",
         "Outros",
         "0.0",
         null,
         "Sem Informação",
         "2025-01-11",
         "2025-01-16 00:00:00",
         "1",
         "Letícia",
         "",
         "",
         "",
         "",
         "",
         ""
        ],
        [
         "3",
         "Aprovado com condicionante",
         "E:05501.0000006141/2024",
         "Contratos",
         "DER",
         "500 e 501",
         "Outros",
         "35607149.96",
         "Sexto Termo Aditivo ao Contrato CPL/SETRAND-DER/AL nº 002/2022-prazo de vigência dar-se-á em 31 de janeiro de 2025. (APENAS PRAZO)",
         "Aprovação condicionada da PGE. - prazo de vigência dar-se-á em 31 de janeiro de 2024. Tem como objeto os Serviços Contínuos de Conservação Rotineira Rodoviária das Rodovias AL-110/115/120/215/220/225/450/485/486/487.( Apenas prazo, o processo com reequilíbrio financeiro está em tramitação) Está compatível com as prioridades governamentais e o Plano de Governo-SEGOV.",
         "2025-01-11",
         "2025-01-16 00:00:00",
         "1",
         "Letícia",
         "",
         "",
         "",
         "",
         "",
         ""
        ],
        [
         "4",
         "Aprovado com condicionante",
         "E:01101.0000004456/2023",
         "Cessão de servidor",
         "GABCIVIL",
         "500",
         "Outros",
         "0.0",
         "Renovação da cessão da servidora Othelina Amália do Nascimento Holanda, ocupante do cargo efetivo de Médico, Clínico Geral, para continuar fazendo parte do quadro de Pessoal do poder Executivo Municipal.",
         "O Setor de Análise e Instrução Processual – SAIP/GEREVP informa que Othelina Amália do Nascimento Holanda é servidor (a) do Quadro de Cargos Permanente do Serviço Civil do Poder Executivo, lotado (a) no  PAM Salgadinho da Secretaria Municipal de Saúde,  nomeado (a) em, DOE de 11.04.2005, com exercício em 17.05.2005, ocupante do Cargo de Médico, sob Matrícula nº 9864250-2, com carga horária de 24 (vinte e quatro) horas semanais de trabalho.",
         "2025-01-13",
         null,
         null,
         "Beatriz",
         "",
         "",
         "",
         "",
         "",
         ""
        ]
       ],
       "shape": {
        "columns": 19,
        "rows": 5
       }
      },
      "text/html": [
       "<div>\n",
       "<style scoped>\n",
       "    .dataframe tbody tr th:only-of-type {\n",
       "        vertical-align: middle;\n",
       "    }\n",
       "\n",
       "    .dataframe tbody tr th {\n",
       "        vertical-align: top;\n",
       "    }\n",
       "\n",
       "    .dataframe thead th {\n",
       "        text-align: right;\n",
       "    }\n",
       "</style>\n",
       "<table border=\"1\" class=\"dataframe\">\n",
       "  <thead>\n",
       "    <tr style=\"text-align: right;\">\n",
       "      <th></th>\n",
       "      <th>Deliberação</th>\n",
       "      <th>Nº do Processo</th>\n",
       "      <th>Tipo de Despesa</th>\n",
       "      <th>Órgão (UO)</th>\n",
       "      <th>Fonte de Recursos</th>\n",
       "      <th>Grupo de Despesas</th>\n",
       "      <th>Valor</th>\n",
       "      <th>Objetivo</th>\n",
       "      <th>Observação</th>\n",
       "      <th>Data de Recebimento</th>\n",
       "      <th>Data de Publicação</th>\n",
       "      <th>Nº ATA</th>\n",
       "      <th>Cadastrado Por</th>\n",
       "      <th>Última Edição</th>\n",
       "      <th>SECRETÁRIA EXECUTIVA</th>\n",
       "      <th>SEPLAG</th>\n",
       "      <th>SEFAZ</th>\n",
       "      <th>GABINETE CIVIL</th>\n",
       "      <th>SEGOV</th>\n",
       "    </tr>\n",
       "  </thead>\n",
       "  <tbody>\n",
       "    <tr>\n",
       "      <th>0</th>\n",
       "      <td>Segurar</td>\n",
       "      <td>E:05501.0000003447/2024</td>\n",
       "      <td>Contratação</td>\n",
       "      <td>DER</td>\n",
       "      <td>500</td>\n",
       "      <td>Outros</td>\n",
       "      <td>1010.40</td>\n",
       "      <td>Contratação de serviço de seguro de vida col...</td>\n",
       "      <td>A legislação exige a proteção dos estagiários ...</td>\n",
       "      <td>2025-01-11</td>\n",
       "      <td>NaT</td>\n",
       "      <td>NaN</td>\n",
       "      <td>Letícia</td>\n",
       "      <td></td>\n",
       "      <td></td>\n",
       "      <td></td>\n",
       "      <td></td>\n",
       "      <td></td>\n",
       "      <td></td>\n",
       "    </tr>\n",
       "    <tr>\n",
       "      <th>1</th>\n",
       "      <td>Aprovado com condicionante</td>\n",
       "      <td>E:04105.0000002178/2024</td>\n",
       "      <td>Contratos</td>\n",
       "      <td>AMGESP</td>\n",
       "      <td>500 e 501</td>\n",
       "      <td>Outros</td>\n",
       "      <td>30392123.82</td>\n",
       "      <td>Termo Aditivo ao Contrato CPL/SETRAND-DER/AL N...</td>\n",
       "      <td>Tem como objeto os serviços Contínuos de Cons...</td>\n",
       "      <td>2025-01-09</td>\n",
       "      <td>2025-01-16 00:00:00</td>\n",
       "      <td>1</td>\n",
       "      <td>Letícia</td>\n",
       "      <td></td>\n",
       "      <td></td>\n",
       "      <td></td>\n",
       "      <td></td>\n",
       "      <td></td>\n",
       "      <td></td>\n",
       "    </tr>\n",
       "    <tr>\n",
       "      <th>2</th>\n",
       "      <td>Aprovado com condicionante</td>\n",
       "      <td>E:05501.0000006142/2024</td>\n",
       "      <td>Outros</td>\n",
       "      <td>DER</td>\n",
       "      <td>500</td>\n",
       "      <td>Outros</td>\n",
       "      <td>0.00</td>\n",
       "      <td>NaN</td>\n",
       "      <td>Sem Informação</td>\n",
       "      <td>2025-01-11</td>\n",
       "      <td>2025-01-16 00:00:00</td>\n",
       "      <td>1</td>\n",
       "      <td>Letícia</td>\n",
       "      <td></td>\n",
       "      <td></td>\n",
       "      <td></td>\n",
       "      <td></td>\n",
       "      <td></td>\n",
       "      <td></td>\n",
       "    </tr>\n",
       "    <tr>\n",
       "      <th>3</th>\n",
       "      <td>Aprovado com condicionante</td>\n",
       "      <td>E:05501.0000006141/2024</td>\n",
       "      <td>Contratos</td>\n",
       "      <td>DER</td>\n",
       "      <td>500 e 501</td>\n",
       "      <td>Outros</td>\n",
       "      <td>35607149.96</td>\n",
       "      <td>Sexto Termo Aditivo ao Contrato CPL/SETRAND-DE...</td>\n",
       "      <td>Aprovação condicionada da PGE. - prazo de vigê...</td>\n",
       "      <td>2025-01-11</td>\n",
       "      <td>2025-01-16 00:00:00</td>\n",
       "      <td>1</td>\n",
       "      <td>Letícia</td>\n",
       "      <td></td>\n",
       "      <td></td>\n",
       "      <td></td>\n",
       "      <td></td>\n",
       "      <td></td>\n",
       "      <td></td>\n",
       "    </tr>\n",
       "    <tr>\n",
       "      <th>4</th>\n",
       "      <td>Aprovado com condicionante</td>\n",
       "      <td>E:01101.0000004456/2023</td>\n",
       "      <td>Cessão de servidor</td>\n",
       "      <td>GABCIVIL</td>\n",
       "      <td>500</td>\n",
       "      <td>Outros</td>\n",
       "      <td>0.00</td>\n",
       "      <td>Renovação da cessão da servidora Othelina Amál...</td>\n",
       "      <td>O Setor de Análise e Instrução Processual – SA...</td>\n",
       "      <td>2025-01-13</td>\n",
       "      <td>NaT</td>\n",
       "      <td>NaN</td>\n",
       "      <td>Beatriz</td>\n",
       "      <td></td>\n",
       "      <td></td>\n",
       "      <td></td>\n",
       "      <td></td>\n",
       "      <td></td>\n",
       "      <td></td>\n",
       "    </tr>\n",
       "  </tbody>\n",
       "</table>\n",
       "</div>"
      ],
      "text/plain": [
       "                  Deliberação           Nº do Processo     Tipo de Despesa  \\\n",
       "0                     Segurar  E:05501.0000003447/2024         Contratação   \n",
       "1  Aprovado com condicionante  E:04105.0000002178/2024           Contratos   \n",
       "2  Aprovado com condicionante  E:05501.0000006142/2024              Outros   \n",
       "3  Aprovado com condicionante  E:05501.0000006141/2024           Contratos   \n",
       "4  Aprovado com condicionante  E:01101.0000004456/2023  Cessão de servidor   \n",
       "\n",
       "  Órgão (UO) Fonte de Recursos Grupo de Despesas        Valor  \\\n",
       "0        DER               500            Outros      1010.40   \n",
       "1     AMGESP         500 e 501            Outros  30392123.82   \n",
       "2        DER               500            Outros         0.00   \n",
       "3        DER         500 e 501            Outros  35607149.96   \n",
       "4   GABCIVIL               500            Outros         0.00   \n",
       "\n",
       "                                            Objetivo  \\\n",
       "0    Contratação de serviço de seguro de vida col...   \n",
       "1  Termo Aditivo ao Contrato CPL/SETRAND-DER/AL N...   \n",
       "2                                                NaN   \n",
       "3  Sexto Termo Aditivo ao Contrato CPL/SETRAND-DE...   \n",
       "4  Renovação da cessão da servidora Othelina Amál...   \n",
       "\n",
       "                                          Observação Data de Recebimento  \\\n",
       "0  A legislação exige a proteção dos estagiários ...          2025-01-11   \n",
       "1   Tem como objeto os serviços Contínuos de Cons...          2025-01-09   \n",
       "2                                     Sem Informação          2025-01-11   \n",
       "3  Aprovação condicionada da PGE. - prazo de vigê...          2025-01-11   \n",
       "4  O Setor de Análise e Instrução Processual – SA...          2025-01-13   \n",
       "\n",
       "    Data de Publicação Nº ATA Cadastrado Por Última Edição  \\\n",
       "0                  NaT    NaN        Letícia                 \n",
       "1  2025-01-16 00:00:00      1        Letícia                 \n",
       "2  2025-01-16 00:00:00      1        Letícia                 \n",
       "3  2025-01-16 00:00:00      1        Letícia                 \n",
       "4                  NaT    NaN        Beatriz                 \n",
       "\n",
       "  SECRETÁRIA EXECUTIVA SEPLAG SEFAZ GABINETE CIVIL SEGOV  \n",
       "0                                                         \n",
       "1                                                         \n",
       "2                                                         \n",
       "3                                                         \n",
       "4                                                         "
      ]
     },
     "execution_count": 260,
     "metadata": {},
     "output_type": "execute_result"
    }
   ],
   "source": [
    "df.head()"
   ]
  },
  {
   "cell_type": "code",
   "execution_count": 261,
   "id": "c4fabbab",
   "metadata": {},
   "outputs": [],
   "source": [
    "\n",
    "df['Data de Publicação'] = pd.to_datetime(df['Data de Publicação'], errors='coerce').dt.date"
   ]
  },
  {
   "cell_type": "code",
   "execution_count": 262,
   "id": "49356d47",
   "metadata": {},
   "outputs": [],
   "source": [
    "df.to_excel('base_filtrada.xlsx', index=False)"
   ]
  },
  {
   "cell_type": "code",
   "execution_count": 263,
   "id": "8ecbd77e",
   "metadata": {},
   "outputs": [],
   "source": [
    "# df_final = pd.read_excel('base_filtrada.xlsx')"
   ]
  },
  {
   "cell_type": "code",
   "execution_count": 264,
   "id": "b3f87a1d",
   "metadata": {},
   "outputs": [],
   "source": [
    "# df_final.head()"
   ]
  }
 ],
 "metadata": {
  "kernelspec": {
   "display_name": ".venv",
   "language": "python",
   "name": "python3"
  },
  "language_info": {
   "codemirror_mode": {
    "name": "ipython",
    "version": 3
   },
   "file_extension": ".py",
   "mimetype": "text/x-python",
   "name": "python",
   "nbconvert_exporter": "python",
   "pygments_lexer": "ipython3",
   "version": "3.12.0"
  }
 },
 "nbformat": 4,
 "nbformat_minor": 5
}
